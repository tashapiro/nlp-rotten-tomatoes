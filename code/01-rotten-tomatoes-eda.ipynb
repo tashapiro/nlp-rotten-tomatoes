{
 "cells": [
  {
   "cell_type": "markdown",
   "id": "5463a15d",
   "metadata": {},
   "source": [
    "# Part 1: Rotten Tomatoes EDA\n",
    "This project uses reviews from Rotten Tomatoes, the objective is to predict based on text, whether the review is fresh (1) or rotten (0).\n",
    "\n",
    "The dataset was taken from [Kaggle](https://www.kaggle.com/mrbaloglu/rotten-tomatoes-reviews-dataset)."
   ]
  },
  {
   "cell_type": "code",
   "execution_count": 110,
   "id": "4f349af0",
   "metadata": {},
   "outputs": [],
   "source": [
    "import pandas as pd \n",
    "import numpy as np \n",
    "from plotnine import *\n",
    "\n",
    "from sklearn.feature_extraction.text import CountVectorizer\n",
    "from afinn import Afinn\n",
    "import matplotlib.font_manager"
   ]
  },
  {
   "cell_type": "code",
   "execution_count": 45,
   "id": "e964ffca",
   "metadata": {},
   "outputs": [
    {
     "data": {
      "text/html": [
       "<div>\n",
       "<style scoped>\n",
       "    .dataframe tbody tr th:only-of-type {\n",
       "        vertical-align: middle;\n",
       "    }\n",
       "\n",
       "    .dataframe tbody tr th {\n",
       "        vertical-align: top;\n",
       "    }\n",
       "\n",
       "    .dataframe thead th {\n",
       "        text-align: right;\n",
       "    }\n",
       "</style>\n",
       "<table border=\"1\" class=\"dataframe\">\n",
       "  <thead>\n",
       "    <tr style=\"text-align: right;\">\n",
       "      <th></th>\n",
       "      <th>rt_review</th>\n",
       "      <th>rt_target</th>\n",
       "    </tr>\n",
       "  </thead>\n",
       "  <tbody>\n",
       "    <tr>\n",
       "      <th>0</th>\n",
       "      <td>simplistic , silly and tedious .</td>\n",
       "      <td>0</td>\n",
       "    </tr>\n",
       "    <tr>\n",
       "      <th>1</th>\n",
       "      <td>it's so laddish and juvenile , only teenage bo...</td>\n",
       "      <td>0</td>\n",
       "    </tr>\n",
       "    <tr>\n",
       "      <th>2</th>\n",
       "      <td>exploitative and largely devoid of the depth o...</td>\n",
       "      <td>0</td>\n",
       "    </tr>\n",
       "    <tr>\n",
       "      <th>3</th>\n",
       "      <td>[garbus] discards the potential for pathologic...</td>\n",
       "      <td>0</td>\n",
       "    </tr>\n",
       "    <tr>\n",
       "      <th>4</th>\n",
       "      <td>a visually flashy but narratively opaque and e...</td>\n",
       "      <td>0</td>\n",
       "    </tr>\n",
       "  </tbody>\n",
       "</table>\n",
       "</div>"
      ],
      "text/plain": [
       "                                           rt_review  rt_target\n",
       "0                  simplistic , silly and tedious .           0\n",
       "1  it's so laddish and juvenile , only teenage bo...          0\n",
       "2  exploitative and largely devoid of the depth o...          0\n",
       "3  [garbus] discards the potential for pathologic...          0\n",
       "4  a visually flashy but narratively opaque and e...          0"
      ]
     },
     "execution_count": 45,
     "metadata": {},
     "output_type": "execute_result"
    }
   ],
   "source": [
    "df = pd.read_csv(\"../data/rotten_tomatoes.csv\")\n",
    "df.head()"
   ]
  },
  {
   "cell_type": "code",
   "execution_count": 108,
   "id": "47d6dbf8",
   "metadata": {},
   "outputs": [
    {
     "data": {
      "text/plain": [
       "(10662, 7)"
      ]
     },
     "execution_count": 108,
     "metadata": {},
     "output_type": "execute_result"
    }
   ],
   "source": [
    "df.shape"
   ]
  },
  {
   "cell_type": "code",
   "execution_count": 46,
   "id": "3c80a3a7",
   "metadata": {},
   "outputs": [
    {
     "data": {
      "text/plain": [
       "0    5331\n",
       "1    5331\n",
       "Name: rt_target, dtype: int64"
      ]
     },
     "execution_count": 46,
     "metadata": {},
     "output_type": "execute_result"
    }
   ],
   "source": [
    "df.rt_target.value_counts()"
   ]
  },
  {
   "cell_type": "markdown",
   "id": "6d74abe7",
   "metadata": {},
   "source": [
    "Great, the dataset is beautifully balanced!"
   ]
  },
  {
   "cell_type": "markdown",
   "id": "daa09dd5",
   "metadata": {},
   "source": [
    "## Create Additional Features\n",
    "Add additional features - e.g. number of words per text, character length."
   ]
  },
  {
   "cell_type": "code",
   "execution_count": 47,
   "id": "6ba83623",
   "metadata": {},
   "outputs": [
    {
     "data": {
      "text/html": [
       "<div>\n",
       "<style scoped>\n",
       "    .dataframe tbody tr th:only-of-type {\n",
       "        vertical-align: middle;\n",
       "    }\n",
       "\n",
       "    .dataframe tbody tr th {\n",
       "        vertical-align: top;\n",
       "    }\n",
       "\n",
       "    .dataframe thead th {\n",
       "        text-align: right;\n",
       "    }\n",
       "</style>\n",
       "<table border=\"1\" class=\"dataframe\">\n",
       "  <thead>\n",
       "    <tr style=\"text-align: right;\">\n",
       "      <th></th>\n",
       "      <th>rt_review</th>\n",
       "      <th>rt_target</th>\n",
       "      <th>char_length</th>\n",
       "      <th>word_count</th>\n",
       "      <th>rt_label</th>\n",
       "    </tr>\n",
       "  </thead>\n",
       "  <tbody>\n",
       "    <tr>\n",
       "      <th>0</th>\n",
       "      <td>simplistic , silly and tedious .</td>\n",
       "      <td>0</td>\n",
       "      <td>33</td>\n",
       "      <td>6</td>\n",
       "      <td>Rotten</td>\n",
       "    </tr>\n",
       "    <tr>\n",
       "      <th>1</th>\n",
       "      <td>it's so laddish and juvenile , only teenage bo...</td>\n",
       "      <td>0</td>\n",
       "      <td>80</td>\n",
       "      <td>15</td>\n",
       "      <td>Rotten</td>\n",
       "    </tr>\n",
       "    <tr>\n",
       "      <th>2</th>\n",
       "      <td>exploitative and largely devoid of the depth o...</td>\n",
       "      <td>0</td>\n",
       "      <td>138</td>\n",
       "      <td>22</td>\n",
       "      <td>Rotten</td>\n",
       "    </tr>\n",
       "  </tbody>\n",
       "</table>\n",
       "</div>"
      ],
      "text/plain": [
       "                                           rt_review  rt_target  char_length  \\\n",
       "0                  simplistic , silly and tedious .           0           33   \n",
       "1  it's so laddish and juvenile , only teenage bo...          0           80   \n",
       "2  exploitative and largely devoid of the depth o...          0          138   \n",
       "\n",
       "   word_count rt_label  \n",
       "0           6   Rotten  \n",
       "1          15   Rotten  \n",
       "2          22   Rotten  "
      ]
     },
     "execution_count": 47,
     "metadata": {},
     "output_type": "execute_result"
    }
   ],
   "source": [
    "df['char_length'] = [len(review) for review in df['rt_review']]\n",
    "df['word_count'] = [len(review.split()) for review in df['rt_review']]\n",
    "df['rt_label'] = np.where(df.rt_target==0,\"Rotten\",\"Fresh\")\n",
    "df.head(3)"
   ]
  },
  {
   "cell_type": "code",
   "execution_count": 48,
   "id": "301424ed",
   "metadata": {},
   "outputs": [
    {
     "data": {
      "text/html": [
       "<div>\n",
       "<style scoped>\n",
       "    .dataframe tbody tr th:only-of-type {\n",
       "        vertical-align: middle;\n",
       "    }\n",
       "\n",
       "    .dataframe tbody tr th {\n",
       "        vertical-align: top;\n",
       "    }\n",
       "\n",
       "    .dataframe thead th {\n",
       "        text-align: right;\n",
       "    }\n",
       "</style>\n",
       "<table border=\"1\" class=\"dataframe\">\n",
       "  <thead>\n",
       "    <tr style=\"text-align: right;\">\n",
       "      <th></th>\n",
       "      <th>rt_target</th>\n",
       "      <th>char_length</th>\n",
       "      <th>word_count</th>\n",
       "    </tr>\n",
       "  </thead>\n",
       "  <tbody>\n",
       "    <tr>\n",
       "      <th>count</th>\n",
       "      <td>10662.000000</td>\n",
       "      <td>10662.000000</td>\n",
       "      <td>10662.000000</td>\n",
       "    </tr>\n",
       "    <tr>\n",
       "      <th>mean</th>\n",
       "      <td>0.500000</td>\n",
       "      <td>115.156256</td>\n",
       "      <td>21.015476</td>\n",
       "    </tr>\n",
       "    <tr>\n",
       "      <th>std</th>\n",
       "      <td>0.500023</td>\n",
       "      <td>51.199546</td>\n",
       "      <td>9.411840</td>\n",
       "    </tr>\n",
       "    <tr>\n",
       "      <th>min</th>\n",
       "      <td>0.000000</td>\n",
       "      <td>5.000000</td>\n",
       "      <td>1.000000</td>\n",
       "    </tr>\n",
       "    <tr>\n",
       "      <th>25%</th>\n",
       "      <td>0.000000</td>\n",
       "      <td>77.000000</td>\n",
       "      <td>14.000000</td>\n",
       "    </tr>\n",
       "    <tr>\n",
       "      <th>50%</th>\n",
       "      <td>0.500000</td>\n",
       "      <td>112.000000</td>\n",
       "      <td>20.000000</td>\n",
       "    </tr>\n",
       "    <tr>\n",
       "      <th>75%</th>\n",
       "      <td>1.000000</td>\n",
       "      <td>150.000000</td>\n",
       "      <td>27.000000</td>\n",
       "    </tr>\n",
       "    <tr>\n",
       "      <th>max</th>\n",
       "      <td>1.000000</td>\n",
       "      <td>269.000000</td>\n",
       "      <td>59.000000</td>\n",
       "    </tr>\n",
       "  </tbody>\n",
       "</table>\n",
       "</div>"
      ],
      "text/plain": [
       "          rt_target   char_length    word_count\n",
       "count  10662.000000  10662.000000  10662.000000\n",
       "mean       0.500000    115.156256     21.015476\n",
       "std        0.500023     51.199546      9.411840\n",
       "min        0.000000      5.000000      1.000000\n",
       "25%        0.000000     77.000000     14.000000\n",
       "50%        0.500000    112.000000     20.000000\n",
       "75%        1.000000    150.000000     27.000000\n",
       "max        1.000000    269.000000     59.000000"
      ]
     },
     "execution_count": 48,
     "metadata": {},
     "output_type": "execute_result"
    }
   ],
   "source": [
    "df.describe()"
   ]
  },
  {
   "cell_type": "code",
   "execution_count": 130,
   "id": "03ffa5c8",
   "metadata": {},
   "outputs": [
    {
     "data": {
      "text/html": [
       "<div>\n",
       "<style scoped>\n",
       "    .dataframe tbody tr th:only-of-type {\n",
       "        vertical-align: middle;\n",
       "    }\n",
       "\n",
       "    .dataframe tbody tr th {\n",
       "        vertical-align: top;\n",
       "    }\n",
       "\n",
       "    .dataframe thead th {\n",
       "        text-align: right;\n",
       "    }\n",
       "</style>\n",
       "<table border=\"1\" class=\"dataframe\">\n",
       "  <thead>\n",
       "    <tr style=\"text-align: right;\">\n",
       "      <th></th>\n",
       "      <th>rt_target</th>\n",
       "      <th>char_length</th>\n",
       "      <th>word_count</th>\n",
       "      <th>afinn_score</th>\n",
       "    </tr>\n",
       "  </thead>\n",
       "  <tbody>\n",
       "    <tr>\n",
       "      <th>count</th>\n",
       "      <td>5331.0</td>\n",
       "      <td>5331.000000</td>\n",
       "      <td>5331.000000</td>\n",
       "      <td>5331.000000</td>\n",
       "    </tr>\n",
       "    <tr>\n",
       "      <th>mean</th>\n",
       "      <td>0.0</td>\n",
       "      <td>113.854624</td>\n",
       "      <td>20.938848</td>\n",
       "      <td>-0.068655</td>\n",
       "    </tr>\n",
       "    <tr>\n",
       "      <th>std</th>\n",
       "      <td>0.0</td>\n",
       "      <td>50.741268</td>\n",
       "      <td>9.369165</td>\n",
       "      <td>2.970552</td>\n",
       "    </tr>\n",
       "    <tr>\n",
       "      <th>min</th>\n",
       "      <td>0.0</td>\n",
       "      <td>5.000000</td>\n",
       "      <td>1.000000</td>\n",
       "      <td>-14.000000</td>\n",
       "    </tr>\n",
       "    <tr>\n",
       "      <th>25%</th>\n",
       "      <td>0.0</td>\n",
       "      <td>76.000000</td>\n",
       "      <td>14.000000</td>\n",
       "      <td>-2.000000</td>\n",
       "    </tr>\n",
       "    <tr>\n",
       "      <th>50%</th>\n",
       "      <td>0.0</td>\n",
       "      <td>111.000000</td>\n",
       "      <td>20.000000</td>\n",
       "      <td>0.000000</td>\n",
       "    </tr>\n",
       "    <tr>\n",
       "      <th>75%</th>\n",
       "      <td>0.0</td>\n",
       "      <td>148.000000</td>\n",
       "      <td>27.000000</td>\n",
       "      <td>2.000000</td>\n",
       "    </tr>\n",
       "    <tr>\n",
       "      <th>max</th>\n",
       "      <td>0.0</td>\n",
       "      <td>267.000000</td>\n",
       "      <td>56.000000</td>\n",
       "      <td>16.000000</td>\n",
       "    </tr>\n",
       "  </tbody>\n",
       "</table>\n",
       "</div>"
      ],
      "text/plain": [
       "       rt_target  char_length   word_count  afinn_score\n",
       "count     5331.0  5331.000000  5331.000000  5331.000000\n",
       "mean         0.0   113.854624    20.938848    -0.068655\n",
       "std          0.0    50.741268     9.369165     2.970552\n",
       "min          0.0     5.000000     1.000000   -14.000000\n",
       "25%          0.0    76.000000    14.000000    -2.000000\n",
       "50%          0.0   111.000000    20.000000     0.000000\n",
       "75%          0.0   148.000000    27.000000     2.000000\n",
       "max          0.0   267.000000    56.000000    16.000000"
      ]
     },
     "execution_count": 130,
     "metadata": {},
     "output_type": "execute_result"
    }
   ],
   "source": [
    "df[df.rt_label=='Rotten'].describe()"
   ]
  },
  {
   "cell_type": "code",
   "execution_count": 131,
   "id": "3ef47786",
   "metadata": {},
   "outputs": [
    {
     "data": {
      "text/html": [
       "<div>\n",
       "<style scoped>\n",
       "    .dataframe tbody tr th:only-of-type {\n",
       "        vertical-align: middle;\n",
       "    }\n",
       "\n",
       "    .dataframe tbody tr th {\n",
       "        vertical-align: top;\n",
       "    }\n",
       "\n",
       "    .dataframe thead th {\n",
       "        text-align: right;\n",
       "    }\n",
       "</style>\n",
       "<table border=\"1\" class=\"dataframe\">\n",
       "  <thead>\n",
       "    <tr style=\"text-align: right;\">\n",
       "      <th></th>\n",
       "      <th>rt_target</th>\n",
       "      <th>char_length</th>\n",
       "      <th>word_count</th>\n",
       "      <th>afinn_score</th>\n",
       "    </tr>\n",
       "  </thead>\n",
       "  <tbody>\n",
       "    <tr>\n",
       "      <th>count</th>\n",
       "      <td>5331.0</td>\n",
       "      <td>5331.000000</td>\n",
       "      <td>5331.000000</td>\n",
       "      <td>5331.000000</td>\n",
       "    </tr>\n",
       "    <tr>\n",
       "      <th>mean</th>\n",
       "      <td>1.0</td>\n",
       "      <td>116.457888</td>\n",
       "      <td>21.092103</td>\n",
       "      <td>1.984618</td>\n",
       "    </tr>\n",
       "    <tr>\n",
       "      <th>std</th>\n",
       "      <td>0.0</td>\n",
       "      <td>51.625705</td>\n",
       "      <td>9.454580</td>\n",
       "      <td>3.230389</td>\n",
       "    </tr>\n",
       "    <tr>\n",
       "      <th>min</th>\n",
       "      <td>1.0</td>\n",
       "      <td>9.000000</td>\n",
       "      <td>2.000000</td>\n",
       "      <td>-12.000000</td>\n",
       "    </tr>\n",
       "    <tr>\n",
       "      <th>25%</th>\n",
       "      <td>1.0</td>\n",
       "      <td>78.000000</td>\n",
       "      <td>14.000000</td>\n",
       "      <td>0.000000</td>\n",
       "    </tr>\n",
       "    <tr>\n",
       "      <th>50%</th>\n",
       "      <td>1.0</td>\n",
       "      <td>113.000000</td>\n",
       "      <td>20.000000</td>\n",
       "      <td>2.000000</td>\n",
       "    </tr>\n",
       "    <tr>\n",
       "      <th>75%</th>\n",
       "      <td>1.0</td>\n",
       "      <td>152.000000</td>\n",
       "      <td>27.000000</td>\n",
       "      <td>4.000000</td>\n",
       "    </tr>\n",
       "    <tr>\n",
       "      <th>max</th>\n",
       "      <td>1.0</td>\n",
       "      <td>269.000000</td>\n",
       "      <td>59.000000</td>\n",
       "      <td>22.000000</td>\n",
       "    </tr>\n",
       "  </tbody>\n",
       "</table>\n",
       "</div>"
      ],
      "text/plain": [
       "       rt_target  char_length   word_count  afinn_score\n",
       "count     5331.0  5331.000000  5331.000000  5331.000000\n",
       "mean         1.0   116.457888    21.092103     1.984618\n",
       "std          0.0    51.625705     9.454580     3.230389\n",
       "min          1.0     9.000000     2.000000   -12.000000\n",
       "25%          1.0    78.000000    14.000000     0.000000\n",
       "50%          1.0   113.000000    20.000000     2.000000\n",
       "75%          1.0   152.000000    27.000000     4.000000\n",
       "max          1.0   269.000000    59.000000    22.000000"
      ]
     },
     "execution_count": 131,
     "metadata": {},
     "output_type": "execute_result"
    }
   ],
   "source": [
    "df[df.rt_label=='Fresh'].describe()"
   ]
  },
  {
   "cell_type": "markdown",
   "id": "f46ffcd1",
   "metadata": {},
   "source": [
    "## Functions to help EDA"
   ]
  },
  {
   "cell_type": "code",
   "execution_count": 52,
   "id": "ba690fa8",
   "metadata": {},
   "outputs": [],
   "source": [
    "#Function to get Count Vectorized dataframe output of the dataframe\n",
    "def get_cv(df, text_col, stop_words, min_df, ngram_range):\n",
    "    cv = CountVectorizer(stop_words=stop_words,\n",
    "                         ngram_range = ngram_range,\n",
    "                         min_df= min_df)\n",
    "    cv.fit(df[text_col])\n",
    "    cv_text = cv.transform(df[text_col])\n",
    "    df_cv = pd.DataFrame(cv_text.todense(),columns=cv.get_feature_names())\n",
    "    data = pd.merge(df, df_cv, left_index=True, right_index=True)\n",
    "    return data\n",
    "\n",
    "#Function to return the name of all word columns\n",
    "def get_words(df, text_col, stop_words, min_df, ngram_range):\n",
    "    cv = CountVectorizer(stop_words=stop_words,\n",
    "                         ngram_range = ngram_range,\n",
    "                         min_df= min_df)\n",
    "    cv.fit(df[text_col])\n",
    "    cv_text = cv.transform(df[text_col])\n",
    "    df_cv = pd.DataFrame(cv_text.todense(),columns=cv.get_feature_names())\n",
    "    cols = [col for col in df_cv]\n",
    "    return cols\n",
    "\n",
    "#Function to return the top text (words or phrases) in a dataframe\n",
    "def get_top_text(df, target, text_cols, top_n):\n",
    "    #aggregate and flip\n",
    "    data = (df[['rt_label']+text_cols]\n",
    "            .groupby('rt_label')\n",
    "            .sum().T[target])\n",
    "    #filter out words in remove list\n",
    "    remove_list = ['ve','com','nt','https']\n",
    "    data = data[data.index.isin(remove_list)==False]\n",
    "    data = data[data.index.str.contains(\"com\")==False]\n",
    "    #sort and return top values\n",
    "    data = data.sort_values(ascending=False).head(top_n)\n",
    "    return pd.DataFrame(data)"
   ]
  },
  {
   "cell_type": "markdown",
   "id": "fd830bf0",
   "metadata": {},
   "source": [
    "## Setting Visual Aesthetics"
   ]
  },
  {
   "cell_type": "code",
   "execution_count": 121,
   "id": "8a42a86c",
   "metadata": {},
   "outputs": [],
   "source": [
    "#color palette from rotten tomatoes \n",
    "red = '#FA3209'\n",
    "green = '#23CB5F'\n",
    "black = '#010217'\n",
    "\n",
    "col_pal = [red,green]\n",
    "\n",
    "font_title = 'Franklin Gothic Book'\n",
    "font_family = 'Franklin Gothic'"
   ]
  },
  {
   "cell_type": "markdown",
   "id": "87a55832",
   "metadata": {},
   "source": [
    "## Visualization Distribution"
   ]
  },
  {
   "cell_type": "code",
   "execution_count": 125,
   "id": "2cbe72a4",
   "metadata": {},
   "outputs": [
    {
     "name": "stderr",
     "output_type": "stream",
     "text": [
      "/Users/tanyashapiro/opt/anaconda3/lib/python3.8/site-packages/plotnine/ggplot.py:727: PlotnineWarning: Saving 12 x 4 in image.\n",
      "/Users/tanyashapiro/opt/anaconda3/lib/python3.8/site-packages/plotnine/ggplot.py:730: PlotnineWarning: Filename: ../plots/dist_char_len.png\n",
      "/Users/tanyashapiro/opt/anaconda3/lib/python3.8/site-packages/plotnine/layer.py:467: PlotnineWarning: geom_histogram : Removed 4 rows containing missing values.\n",
      "/Users/tanyashapiro/opt/anaconda3/lib/python3.8/site-packages/plotnine/layer.py:467: PlotnineWarning: geom_histogram : Removed 4 rows containing missing values.\n"
     ]
    },
    {
     "data": {
      "image/png": "[encoded data removed]",
      "text/plain": [
       "<Figure size 1200x400 with 2 Axes>"
      ]
     },
     "metadata": {},
     "output_type": "display_data"
    },
    {
     "data": {
      "text/plain": [
       "<ggplot: (8780125934981)>"
      ]
     },
     "execution_count": 125,
     "metadata": {},
     "output_type": "execute_result"
    }
   ],
   "source": [
    "char_len = (ggplot(df, aes(x='char_length', fill=\"rt_label\"))\n",
    "                +geom_histogram(bins=30) \n",
    "                +facet_wrap(\"rt_label\")\n",
    "                +scale_fill_manual(values=col_pal)\n",
    "                +scale_x_continuous(limits=(0,300))\n",
    "                + ylab(\"Count\")\n",
    "                + xlab(\"Character Length\")\n",
    "                +ggtitle(\"Character Length Distribution\")\n",
    "                +theme(figure_size=(12, 4),\n",
    "                    text = element_text(family=\"Franklin Gothic Book\"),\n",
    "                    plot_title=element_text(family=\"Franklin Gothic\", weight='bold',color='black', size=14),\n",
    "                    panel_background = element_rect(fill=\"white\"),\n",
    "                    panel_grid_major = element_line(color=\"#dee2e6\"),\n",
    "                    subplots_adjust={'wspace': 0.25},\n",
    "                    legend_position=\"none\",\n",
    "                    axis_title = element_text(weight='bold'))\n",
    "          )\n",
    "\n",
    "\n",
    "ggsave(plot=char_len, filename='../plots/dist_char_len.png', dpi=1000)\n",
    "\n",
    "char_len"
   ]
  },
  {
   "cell_type": "code",
   "execution_count": 124,
   "id": "32585adb",
   "metadata": {},
   "outputs": [
    {
     "name": "stderr",
     "output_type": "stream",
     "text": [
      "/Users/tanyashapiro/opt/anaconda3/lib/python3.8/site-packages/plotnine/ggplot.py:727: PlotnineWarning: Saving 12 x 4 in image.\n",
      "/Users/tanyashapiro/opt/anaconda3/lib/python3.8/site-packages/plotnine/ggplot.py:730: PlotnineWarning: Filename: ../plots/dist_word_count.png\n",
      "/Users/tanyashapiro/opt/anaconda3/lib/python3.8/site-packages/plotnine/layer.py:467: PlotnineWarning: geom_histogram : Removed 4 rows containing missing values.\n",
      "findfont: Font family ['Franklin Gothic Book'] not found. Falling back to DejaVu Sans.\n",
      "/Users/tanyashapiro/opt/anaconda3/lib/python3.8/site-packages/plotnine/layer.py:467: PlotnineWarning: geom_histogram : Removed 4 rows containing missing values.\n"
     ]
    },
    {
     "data": {
      "image/png": "[encoded data removed]",
      "text/plain": [
       "<Figure size 1200x400 with 2 Axes>"
      ]
     },
     "metadata": {},
     "output_type": "display_data"
    },
    {
     "data": {
      "text/plain": [
       "<ggplot: (8779576996100)>"
      ]
     },
     "execution_count": 124,
     "metadata": {},
     "output_type": "execute_result"
    }
   ],
   "source": [
    "word_count = (ggplot(df, aes(x='word_count', fill=\"rt_label\"))\n",
    "                +geom_histogram(bins=30) \n",
    "                +facet_wrap(\"rt_label\")\n",
    "                +scale_fill_manual(values=col_pal)\n",
    "                +scale_x_continuous(limits=(0,60))\n",
    "                + ylab(\"Count\")\n",
    "                + xlab(\"Word Count\")\n",
    "                +ggtitle(\"Word Count Distribution\")\n",
    "                +theme(figure_size=(12, 4),\n",
    "                    text = element_text(family=font_family),\n",
    "                    plot_title=element_text(family=font_title, weight='bold',color='black', size=14),\n",
    "                    panel_background = element_rect(fill=\"white\"),\n",
    "                    panel_grid_major = element_line(color=\"#dee2e6\"),\n",
    "                    subplots_adjust={'wspace': 0.25},\n",
    "                    legend_position=\"none\",\n",
    "                    axis_title = element_text(weight='bold'))\n",
    "          )\n",
    "\n",
    "ggsave(plot=word_count, filename='../plots/dist_word_count.png', dpi=1000)\n",
    "\n",
    "word_count\n"
   ]
  },
  {
   "cell_type": "markdown",
   "id": "8023aba9",
   "metadata": {},
   "source": [
    "## Create Data Set to Visualize Words"
   ]
  },
  {
   "cell_type": "markdown",
   "id": "95fddadd",
   "metadata": {},
   "source": [
    "### Top Words"
   ]
  },
  {
   "cell_type": "code",
   "execution_count": 54,
   "id": "49e19e29",
   "metadata": {},
   "outputs": [],
   "source": [
    "words = get_cv(df, 'rt_review', 'english', 2, (1,1))\n",
    "word_list = get_words(df, 'rt_review', 'english', 2, (1,1))"
   ]
  },
  {
   "cell_type": "code",
   "execution_count": 58,
   "id": "0f44e32f",
   "metadata": {},
   "outputs": [],
   "source": [
    "#popular words for fresh reviews\n",
    "top_words_fresh = get_top_text(words, 'Fresh', word_list, 15).rename(columns={'Fresh':\"count\"})\n",
    "top_words_fresh = top_words_fresh.reset_index().rename(columns={\"index\":\"word\"})\n",
    "top_words_fresh['label'] = 'Fresh'\n",
    "\n",
    "#popular words for subreddit 2\n",
    "top_words_rotten = get_top_text(words, 'Rotten', word_list, 15).rename(columns={'Rotten':\"count\"})\n",
    "top_words_rotten = top_words_rotten.reset_index().rename(columns={\"index\":\"word\"})\n",
    "top_words_rotten['label'] = 'Rotten'\n",
    "\n",
    "#combine data\n",
    "top_words = pd.concat([top_words_fresh,top_words_rotten]).sort_values(by=['label','count'], ascending=False)\n",
    "top_words= top_words.reset_index()\n",
    "\n",
    "#are there common words included in both\n",
    "top_words['shared'] = np.where(top_words.duplicated(subset=\"word\", keep=False),\"Shared Word\",\"\")\n",
    "\n",
    "#used to help properly sort words/phrases in plotnine, reorders shared words/phrases, workaround\n",
    "top_words['fake_suffix'] = np.where(top_words.label == 'Fresh', \"\",\" \")"
   ]
  },
  {
   "cell_type": "code",
   "execution_count": 123,
   "id": "e5f6dbfc",
   "metadata": {},
   "outputs": [
    {
     "name": "stderr",
     "output_type": "stream",
     "text": [
      "/Users/tanyashapiro/opt/anaconda3/lib/python3.8/site-packages/plotnine/ggplot.py:727: PlotnineWarning: Saving 12 x 4 in image.\n",
      "/Users/tanyashapiro/opt/anaconda3/lib/python3.8/site-packages/plotnine/ggplot.py:730: PlotnineWarning: Filename: ../plots/top_words.png\n",
      "findfont: Font family ['Franklin Gothic'] not found. Falling back to DejaVu Sans.\n"
     ]
    },
    {
     "data": {
      "image/png": "[encoded data removed]",
      "text/plain": [
       "<Figure size 1200x400 with 2 Axes>"
      ]
     },
     "metadata": {},
     "output_type": "display_data"
    },
    {
     "data": {
      "text/plain": [
       "<ggplot: (8780126366501)>"
      ]
     },
     "execution_count": 123,
     "metadata": {},
     "output_type": "execute_result"
    }
   ],
   "source": [
    "top_words_plot = (\n",
    "    ggplot(top_words, aes(y= \"count\", x= \"reorder(fake_suffix+word,count)\", fill='label'))\n",
    "        + geom_bar(stat = \"identity\")\n",
    "        + geom_point(data = top_words[top_words.shared==\"Shared Word\"], \n",
    "                     mapping=aes(y=\"count\", x=\"fake_suffix+word\",shape=\"shared\"), \n",
    "                     color='#2D2D2A', fill=\"#2D2D2A\",size=4)\n",
    "        + xlab(\"Word\")\n",
    "        + ylab(\"Word Count\")\n",
    "        + facet_wrap(\"label\", scales=\"free\")\n",
    "        + scale_x_discrete() \n",
    "        + scale_fill_manual(values = col_pal, guide=None)\n",
    "        + scale_shape_manual(values=\"*\", guide = guide_legend(title=\"\"))\n",
    "        + coord_flip()\n",
    "        + ggtitle(\"TOP 15 WORDS\")\n",
    "        + theme(figure_size=(12, 4),\n",
    "            text = element_text(family=font_family),\n",
    "            plot_title=element_text(family=font_title, color='black', size=14),\n",
    "            panel_background = element_rect(fill=\"white\"),\n",
    "            panel_grid_major = element_line(color=\"#dee2e6\"),\n",
    "            legend_position=\"bottom\", legend_box_spacing=.15, legend_key=element_blank(),\n",
    "            strip_background = element_rect(fill=\"#2D2D2A\"),\n",
    "            strip_text=element_text(color=\"white\"),\n",
    "            subplots_adjust={'wspace': 0.25},\n",
    "            axis_title = element_text(weight='bold'))\n",
    "          )\n",
    "\n",
    "top_words_plot\n",
    "\n",
    "ggsave(plot=top_words_plot, filename='../plots/top_words.png', dpi=1000)\n",
    "\n",
    "top_words_plot"
   ]
  },
  {
   "cell_type": "markdown",
   "id": "b78bc83e",
   "metadata": {},
   "source": [
    "### Top Bigrams"
   ]
  },
  {
   "cell_type": "code",
   "execution_count": 60,
   "id": "2085fc23",
   "metadata": {},
   "outputs": [
    {
     "name": "stderr",
     "output_type": "stream",
     "text": [
      "/Users/tanyashapiro/opt/anaconda3/lib/python3.8/site-packages/sklearn/utils/deprecation.py:87: FutureWarning: Function get_feature_names is deprecated; get_feature_names is deprecated in 1.0 and will be removed in 1.2. Please use get_feature_names_out instead.\n"
     ]
    }
   ],
   "source": [
    "bigram = get_cv(df, 'rt_review', 'english', 2, (2,2))\n",
    "bigram_list = get_words(df, 'rt_review', 'english', 2, (2,2))"
   ]
  },
  {
   "cell_type": "code",
   "execution_count": 62,
   "id": "6576105b",
   "metadata": {},
   "outputs": [],
   "source": [
    "top_bis_fresh = pd.DataFrame(get_top_text(bigram, 'Fresh', bigram_list, 15)).rename(columns={'Fresh':\"count\"})\n",
    "top_bis_fresh = top_bis_fresh.reset_index().rename(columns={\"index\":\"phrase\"})\n",
    "top_bis_fresh['label'] = 'Fresh'\n",
    "\n",
    "top_bis_rotten = pd.DataFrame(get_top_text(bigram, 'Rotten', bigram_list, 15)).rename(columns={'Rotten':\"count\"})\n",
    "top_bis_rotten = top_bis_rotten.reset_index().rename(columns={\"index\":\"phrase\"})\n",
    "top_bis_rotten['label'] = 'Rotten'\n",
    "\n",
    "top_bis = pd.concat([top_bis_fresh,top_bis_rotten]).sort_values(by=['label','count'], ascending=False)\n",
    "top_bis= top_bis.reset_index()\n",
    "\n",
    "#are there common words included in both\n",
    "top_bis['shared'] = np.where(top_bis.duplicated(subset=\"phrase\", keep=False),\"Shared Phrase\",\"\")\n",
    "\n",
    "#used to help properly sort words/phrases in plotnine, reorders shared words/phrases, workaround\n",
    "top_bis['fake_suffix'] = np.where(top_bis.label == 'Fresh', \"\",\" \")"
   ]
  },
  {
   "cell_type": "code",
   "execution_count": 126,
   "id": "302cf223",
   "metadata": {},
   "outputs": [
    {
     "name": "stderr",
     "output_type": "stream",
     "text": [
      "/Users/tanyashapiro/opt/anaconda3/lib/python3.8/site-packages/plotnine/ggplot.py:727: PlotnineWarning: Saving 12 x 4 in image.\n",
      "/Users/tanyashapiro/opt/anaconda3/lib/python3.8/site-packages/plotnine/ggplot.py:730: PlotnineWarning: Filename: ../plots/top_bis.png\n"
     ]
    },
    {
     "data": {
      "image/png": "[encoded data removed]",
      "text/plain": [
       "<Figure size 1200x400 with 2 Axes>"
      ]
     },
     "metadata": {},
     "output_type": "display_data"
    },
    {
     "data": {
      "text/plain": [
       "<ggplot: (8779577563838)>"
      ]
     },
     "execution_count": 126,
     "metadata": {},
     "output_type": "execute_result"
    }
   ],
   "source": [
    "top_bis_plot = (\n",
    "    ggplot(top_bis, aes(y= \"count\", x= \"reorder(fake_suffix+phrase,count)\", fill='label'))\n",
    "        + geom_bar(stat = \"identity\")\n",
    "        + geom_point(data = top_bis[top_bis.shared==\"Shared Phrase\"], \n",
    "                     mapping=aes(y=\"count\", x=\"fake_suffix+phrase\",shape=\"shared\"), \n",
    "                     color='#2D2D2A', fill=\"#2D2D2A\",size=4)\n",
    "        + xlab(\"Phrase\")\n",
    "        + ylab(\"Phrase Count\")\n",
    "        + facet_wrap(\"label\", scales=\"free\")\n",
    "        + scale_x_discrete() \n",
    "        + scale_fill_manual(values = col_pal, guide=None)\n",
    "        + scale_shape_manual(values=\"*\", guide = guide_legend(title=\"\"))\n",
    "        + coord_flip()\n",
    "        + ggtitle(\"TOP 15 BIGRAMS\")\n",
    "        + theme(figure_size=(12, 4),\n",
    "            text = element_text(family=font_family),\n",
    "            plot_title=element_text(family=font_title, color='black', size=14),\n",
    "            panel_background = element_rect(fill=\"white\"),\n",
    "            panel_grid_major = element_line(color=\"#dee2e6\"),\n",
    "            legend_position=\"bottom\", legend_box_spacing=.25, legend_key=element_blank(),\n",
    "            strip_background = element_rect(fill=\"#2D2D2A\"),\n",
    "            strip_text=element_text(color=\"white\"),\n",
    "            subplots_adjust={'wspace': 0.25},\n",
    "            axis_title = element_text(weight='bold'))\n",
    "          )\n",
    "\n",
    "ggsave(plot=top_bis_plot, filename='../plots/top_bis.png', dpi=1000)\n",
    "\n",
    "\n",
    "top_bis_plot"
   ]
  },
  {
   "cell_type": "markdown",
   "id": "54bd16ed",
   "metadata": {},
   "source": [
    "## Sentiment Analysis"
   ]
  },
  {
   "cell_type": "code",
   "execution_count": 83,
   "id": "0617a9c8",
   "metadata": {},
   "outputs": [
    {
     "data": {
      "text/plain": [
       "4.0"
      ]
     },
     "execution_count": 83,
     "metadata": {},
     "output_type": "execute_result"
    }
   ],
   "source": [
    "afinn = Afinn(language='en')\n",
    "afinn.score('I love it but i was disappointed haha')"
   ]
  },
  {
   "cell_type": "code",
   "execution_count": 99,
   "id": "d799ec8f",
   "metadata": {},
   "outputs": [],
   "source": [
    "df['afinn_score'] = [afinn.score(review) for review in df['rt_review']]"
   ]
  },
  {
   "cell_type": "code",
   "execution_count": 100,
   "id": "91b425e9",
   "metadata": {},
   "outputs": [
    {
     "data": {
      "text/html": [
       "<div>\n",
       "<style scoped>\n",
       "    .dataframe tbody tr th:only-of-type {\n",
       "        vertical-align: middle;\n",
       "    }\n",
       "\n",
       "    .dataframe tbody tr th {\n",
       "        vertical-align: top;\n",
       "    }\n",
       "\n",
       "    .dataframe thead th {\n",
       "        text-align: right;\n",
       "    }\n",
       "</style>\n",
       "<table border=\"1\" class=\"dataframe\">\n",
       "  <thead>\n",
       "    <tr style=\"text-align: right;\">\n",
       "      <th></th>\n",
       "      <th>rt_review</th>\n",
       "      <th>rt_target</th>\n",
       "      <th>char_length</th>\n",
       "      <th>word_count</th>\n",
       "      <th>rt_label</th>\n",
       "      <th>afinn_score</th>\n",
       "      <th>afinn_type</th>\n",
       "    </tr>\n",
       "  </thead>\n",
       "  <tbody>\n",
       "    <tr>\n",
       "      <th>0</th>\n",
       "      <td>simplistic , silly and tedious .</td>\n",
       "      <td>0</td>\n",
       "      <td>33</td>\n",
       "      <td>6</td>\n",
       "      <td>Rotten</td>\n",
       "      <td>-1.0</td>\n",
       "      <td>Negative</td>\n",
       "    </tr>\n",
       "    <tr>\n",
       "      <th>1</th>\n",
       "      <td>it's so laddish and juvenile , only teenage bo...</td>\n",
       "      <td>0</td>\n",
       "      <td>80</td>\n",
       "      <td>15</td>\n",
       "      <td>Rotten</td>\n",
       "      <td>4.0</td>\n",
       "      <td>Positive</td>\n",
       "    </tr>\n",
       "    <tr>\n",
       "      <th>2</th>\n",
       "      <td>exploitative and largely devoid of the depth o...</td>\n",
       "      <td>0</td>\n",
       "      <td>138</td>\n",
       "      <td>22</td>\n",
       "      <td>Rotten</td>\n",
       "      <td>-3.0</td>\n",
       "      <td>Negative</td>\n",
       "    </tr>\n",
       "  </tbody>\n",
       "</table>\n",
       "</div>"
      ],
      "text/plain": [
       "                                           rt_review  rt_target  char_length  \\\n",
       "0                  simplistic , silly and tedious .           0           33   \n",
       "1  it's so laddish and juvenile , only teenage bo...          0           80   \n",
       "2  exploitative and largely devoid of the depth o...          0          138   \n",
       "\n",
       "   word_count rt_label  afinn_score afinn_type  \n",
       "0           6   Rotten         -1.0   Negative  \n",
       "1          15   Rotten          4.0   Positive  \n",
       "2          22   Rotten         -3.0   Negative  "
      ]
     },
     "execution_count": 100,
     "metadata": {},
     "output_type": "execute_result"
    }
   ],
   "source": [
    "df['afinn_type'] = np.where(df['afinn_score']>0,\"Positive\",\"Negative\")\n",
    "df.head(3)"
   ]
  },
  {
   "cell_type": "code",
   "execution_count": 88,
   "id": "13d6dc2b",
   "metadata": {},
   "outputs": [
    {
     "data": {
      "text/plain": [
       "rt_label\n",
       "Fresh     1.984618\n",
       "Rotten   -0.068655\n",
       "Name: afinn_score, dtype: float64"
      ]
     },
     "execution_count": 88,
     "metadata": {},
     "output_type": "execute_result"
    }
   ],
   "source": [
    "df.groupby('rt_label')['afinn_score'].mean()"
   ]
  },
  {
   "cell_type": "code",
   "execution_count": 129,
   "id": "36f2c8db",
   "metadata": {},
   "outputs": [
    {
     "name": "stderr",
     "output_type": "stream",
     "text": [
      "/Users/tanyashapiro/opt/anaconda3/lib/python3.8/site-packages/plotnine/ggplot.py:727: PlotnineWarning: Saving 8 x 4 in image.\n",
      "/Users/tanyashapiro/opt/anaconda3/lib/python3.8/site-packages/plotnine/ggplot.py:730: PlotnineWarning: Filename: ../plots/sentiment.png\n"
     ]
    },
    {
     "data": {
      "image/png": "[encoded data removed]",
      "text/plain": [
       "<Figure size 800x400 with 1 Axes>"
      ]
     },
     "metadata": {
      "needs_background": "light"
     },
     "output_type": "display_data"
    },
    {
     "data": {
      "text/plain": [
       "<ggplot: (8779577563835)>"
      ]
     },
     "execution_count": 129,
     "metadata": {},
     "output_type": "execute_result"
    }
   ],
   "source": [
    " sentiment = (ggplot(df, aes(x=\"rt_label\", fill=\"afinn_type\"))\n",
    " +geom_bar(position=\"fill\")\n",
    " +coord_flip()\n",
    " +xlab(\"Review Classification\")\n",
    " +ylab(\"% of Reviews\")\n",
    " +ggtitle(\"Positive or Negative Affinity Score?\")\n",
    " +labs(fill=\"Affinity Score\")\n",
    " +theme_minimal()\n",
    " +theme(figure_size=(8, 4),\n",
    "                    text = element_text(family=font_family),\n",
    "                    plot_title=element_text(weight='bold',font=font_title, color='black', size=14)\n",
    "       )\n",
    ")\n",
    "    \n",
    "    \n",
    "ggsave(plot=sentiment, filename='../plots/sentiment.png', dpi=1000)\n",
    "\n",
    "\n",
    "sentiment"
   ]
  },
  {
   "cell_type": "code",
   "execution_count": 90,
   "id": "edae12f4",
   "metadata": {},
   "outputs": [
    {
     "data": {
      "text/html": [
       "<div>\n",
       "<style scoped>\n",
       "    .dataframe tbody tr th:only-of-type {\n",
       "        vertical-align: middle;\n",
       "    }\n",
       "\n",
       "    .dataframe tbody tr th {\n",
       "        vertical-align: top;\n",
       "    }\n",
       "\n",
       "    .dataframe thead th {\n",
       "        text-align: right;\n",
       "    }\n",
       "</style>\n",
       "<table border=\"1\" class=\"dataframe\">\n",
       "  <thead>\n",
       "    <tr style=\"text-align: right;\">\n",
       "      <th></th>\n",
       "      <th>rt_target</th>\n",
       "      <th>char_length</th>\n",
       "      <th>word_count</th>\n",
       "      <th>afinn_score</th>\n",
       "    </tr>\n",
       "  </thead>\n",
       "  <tbody>\n",
       "    <tr>\n",
       "      <th>count</th>\n",
       "      <td>10662.000000</td>\n",
       "      <td>10662.000000</td>\n",
       "      <td>10662.000000</td>\n",
       "      <td>10662.000000</td>\n",
       "    </tr>\n",
       "    <tr>\n",
       "      <th>mean</th>\n",
       "      <td>0.500000</td>\n",
       "      <td>115.156256</td>\n",
       "      <td>21.015476</td>\n",
       "      <td>0.957982</td>\n",
       "    </tr>\n",
       "    <tr>\n",
       "      <th>std</th>\n",
       "      <td>0.500023</td>\n",
       "      <td>51.199546</td>\n",
       "      <td>9.411840</td>\n",
       "      <td>3.268482</td>\n",
       "    </tr>\n",
       "    <tr>\n",
       "      <th>min</th>\n",
       "      <td>0.000000</td>\n",
       "      <td>5.000000</td>\n",
       "      <td>1.000000</td>\n",
       "      <td>-14.000000</td>\n",
       "    </tr>\n",
       "    <tr>\n",
       "      <th>25%</th>\n",
       "      <td>0.000000</td>\n",
       "      <td>77.000000</td>\n",
       "      <td>14.000000</td>\n",
       "      <td>-1.000000</td>\n",
       "    </tr>\n",
       "    <tr>\n",
       "      <th>50%</th>\n",
       "      <td>0.500000</td>\n",
       "      <td>112.000000</td>\n",
       "      <td>20.000000</td>\n",
       "      <td>1.000000</td>\n",
       "    </tr>\n",
       "    <tr>\n",
       "      <th>75%</th>\n",
       "      <td>1.000000</td>\n",
       "      <td>150.000000</td>\n",
       "      <td>27.000000</td>\n",
       "      <td>3.000000</td>\n",
       "    </tr>\n",
       "    <tr>\n",
       "      <th>max</th>\n",
       "      <td>1.000000</td>\n",
       "      <td>269.000000</td>\n",
       "      <td>59.000000</td>\n",
       "      <td>22.000000</td>\n",
       "    </tr>\n",
       "  </tbody>\n",
       "</table>\n",
       "</div>"
      ],
      "text/plain": [
       "          rt_target   char_length    word_count   afinn_score\n",
       "count  10662.000000  10662.000000  10662.000000  10662.000000\n",
       "mean       0.500000    115.156256     21.015476      0.957982\n",
       "std        0.500023     51.199546      9.411840      3.268482\n",
       "min        0.000000      5.000000      1.000000    -14.000000\n",
       "25%        0.000000     77.000000     14.000000     -1.000000\n",
       "50%        0.500000    112.000000     20.000000      1.000000\n",
       "75%        1.000000    150.000000     27.000000      3.000000\n",
       "max        1.000000    269.000000     59.000000     22.000000"
      ]
     },
     "execution_count": 90,
     "metadata": {},
     "output_type": "execute_result"
    }
   ],
   "source": [
    "df.describe()"
   ]
  },
  {
   "cell_type": "code",
   "execution_count": 106,
   "id": "34fc249b",
   "metadata": {},
   "outputs": [],
   "source": [
    "df.to_csv(\"../data/rt_new_features.csv\", index=False)"
   ]
  },
  {
   "cell_type": "code",
   "execution_count": null,
   "id": "cf92eceb",
   "metadata": {},
   "outputs": [],
   "source": []
  }
 ],
 "metadata": {
  "kernelspec": {
   "display_name": "Python 3 (ipykernel)",
   "language": "python",
   "name": "python3"
  },
  "language_info": {
   "codemirror_mode": {
    "name": "ipython",
    "version": 3
   },
   "file_extension": ".py",
   "mimetype": "text/x-python",
   "name": "python",
   "nbconvert_exporter": "python",
   "pygments_lexer": "ipython3",
   "version": "3.8.12"
  }
 },
 "nbformat": 4,
 "nbformat_minor": 5
}
