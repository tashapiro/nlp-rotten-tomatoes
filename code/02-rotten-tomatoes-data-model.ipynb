{
 "cells": [
  {
   "cell_type": "markdown",
   "id": "e3a02ee3",
   "metadata": {},
   "source": [
    "# Part 2: Rotten Tomatoes Data Modeling\n",
    "In this section, we will explore a variety of data models to predict whether the review is Fresh (1) or Rotten (0). "
   ]
  },
  {
   "cell_type": "code",
   "execution_count": 2,
   "id": "bdf6fa63",
   "metadata": {},
   "outputs": [],
   "source": [
    "import pandas as pd\n",
    "import matplotlib.pyplot as plt\n",
    "\n",
    "from sklearn.feature_extraction.text import CountVectorizer, TfidfVectorizer\n",
    "from sklearn.linear_model import LogisticRegressionCV, LogisticRegression\n",
    "from sklearn.ensemble import RandomForestClassifier\n",
    "from sklearn.preprocessing import StandardScaler\n",
    "from sklearn.naive_bayes import MultinomialNB\n",
    "from sklearn.neighbors import KNeighborsClassifier, NeighborhoodComponentsAnalysis\n",
    "\n",
    "from sklearn.model_selection import train_test_split, GridSearchCV\n",
    "from sklearn import svm\n",
    "from sklearn.naive_bayes import MultinomialNB\n",
    "from sklearn.pipeline import Pipeline\n",
    "\n",
    "#evaluate model\n",
    "from sklearn.metrics import (confusion_matrix, plot_confusion_matrix,\n",
    "    accuracy_score, plot_roc_curve, roc_auc_score, recall_score,\n",
    "    precision_score, roc_curve, auc)"
   ]
  },
  {
   "cell_type": "code",
   "execution_count": 3,
   "id": "83c140d7",
   "metadata": {},
   "outputs": [
    {
     "data": {
      "text/html": [
       "<div>\n",
       "<style scoped>\n",
       "    .dataframe tbody tr th:only-of-type {\n",
       "        vertical-align: middle;\n",
       "    }\n",
       "\n",
       "    .dataframe tbody tr th {\n",
       "        vertical-align: top;\n",
       "    }\n",
       "\n",
       "    .dataframe thead th {\n",
       "        text-align: right;\n",
       "    }\n",
       "</style>\n",
       "<table border=\"1\" class=\"dataframe\">\n",
       "  <thead>\n",
       "    <tr style=\"text-align: right;\">\n",
       "      <th></th>\n",
       "      <th>rt_review</th>\n",
       "      <th>rt_target</th>\n",
       "      <th>char_length</th>\n",
       "      <th>word_count</th>\n",
       "      <th>rt_label</th>\n",
       "      <th>afinn_score</th>\n",
       "      <th>afinn_type</th>\n",
       "    </tr>\n",
       "  </thead>\n",
       "  <tbody>\n",
       "    <tr>\n",
       "      <th>0</th>\n",
       "      <td>simplistic , silly and tedious .</td>\n",
       "      <td>0</td>\n",
       "      <td>33</td>\n",
       "      <td>6</td>\n",
       "      <td>Rotten</td>\n",
       "      <td>-1.0</td>\n",
       "      <td>Negative</td>\n",
       "    </tr>\n",
       "    <tr>\n",
       "      <th>1</th>\n",
       "      <td>it's so laddish and juvenile , only teenage bo...</td>\n",
       "      <td>0</td>\n",
       "      <td>80</td>\n",
       "      <td>15</td>\n",
       "      <td>Rotten</td>\n",
       "      <td>4.0</td>\n",
       "      <td>Positive</td>\n",
       "    </tr>\n",
       "    <tr>\n",
       "      <th>2</th>\n",
       "      <td>exploitative and largely devoid of the depth o...</td>\n",
       "      <td>0</td>\n",
       "      <td>138</td>\n",
       "      <td>22</td>\n",
       "      <td>Rotten</td>\n",
       "      <td>-3.0</td>\n",
       "      <td>Negative</td>\n",
       "    </tr>\n",
       "  </tbody>\n",
       "</table>\n",
       "</div>"
      ],
      "text/plain": [
       "                                           rt_review  rt_target  char_length  \\\n",
       "0                  simplistic , silly and tedious .           0           33   \n",
       "1  it's so laddish and juvenile , only teenage bo...          0           80   \n",
       "2  exploitative and largely devoid of the depth o...          0          138   \n",
       "\n",
       "   word_count rt_label  afinn_score afinn_type  \n",
       "0           6   Rotten         -1.0   Negative  \n",
       "1          15   Rotten          4.0   Positive  \n",
       "2          22   Rotten         -3.0   Negative  "
      ]
     },
     "execution_count": 3,
     "metadata": {},
     "output_type": "execute_result"
    }
   ],
   "source": [
    "df = pd.read_csv('../data/rt_new_features.csv')\n",
    "df.head(3)"
   ]
  },
  {
   "cell_type": "markdown",
   "id": "b8f3d5d4",
   "metadata": {},
   "source": [
    "### Baseline Accuracy"
   ]
  },
  {
   "cell_type": "code",
   "execution_count": 4,
   "id": "3163e399",
   "metadata": {},
   "outputs": [
    {
     "data": {
      "text/plain": [
       "Rotten    0.5\n",
       "Fresh     0.5\n",
       "Name: rt_label, dtype: float64"
      ]
     },
     "execution_count": 4,
     "metadata": {},
     "output_type": "execute_result"
    }
   ],
   "source": [
    "df.rt_label.value_counts(normalize=True)"
   ]
  },
  {
   "cell_type": "markdown",
   "id": "e1b5a234",
   "metadata": {},
   "source": [
    "The **baseline** accuracy of this dataset is 50% (data is perfectly balanced between two classes for our target - Rotten, Fresh)."
   ]
  },
  {
   "cell_type": "code",
   "execution_count": 5,
   "id": "27054a24",
   "metadata": {},
   "outputs": [],
   "source": [
    "def get_preds_df(model, X_train, y_train, X_test, y_test):\n",
    "    model.fit(X_train,y_train)\n",
    "    y_preds = model.predict(X_test)\n",
    "    results = pd.merge(X_test,y_test, left_index=True, right_index=True).reset_index()\n",
    "    results['prediction'] = y_preds\n",
    "    results['outcome'] = results['prediction'] == results['rt_label']\n",
    "    return results\n",
    "\n",
    "\n",
    "def get_metrics(name,model, X_train, y_train, X_test, y_test):\n",
    "    preds = model.predict(X_test)\n",
    "    tn, fp, fn, tp = confusion_matrix(y_test, preds).ravel()\n",
    "    recall = recall_score(y_test, preds, pos_label=\"Fresh\")\n",
    "    precision = precision_score(y_test, preds, pos_label=\"Fresh\")\n",
    "    acc = accuracy_score(y_test, preds)\n",
    "    sens = tp / (tp + fn)\n",
    "    spec = tn / (tn + fp)\n",
    "    metrics = {\n",
    "               'Model':name,\n",
    "               'Train Accuracy': model.score(X_train,y_train),\n",
    "               'Accuracy': acc, \n",
    "               'TP': tp,\n",
    "               'FP' :fp, \n",
    "               'TN': tn,\n",
    "               \"FN\": fn,\n",
    "               \"Precision\": precision,\n",
    "               \"Sensitivity\": sens,\n",
    "               \"Specificity\": spec,\n",
    "               \"Recall\": recall}\n",
    "    df = pd.DataFrame(metrics.items()).T\n",
    "    df.columns = df.iloc[0]\n",
    "    df = df[1:]\n",
    "    return df"
   ]
  },
  {
   "cell_type": "markdown",
   "id": "e065c957",
   "metadata": {},
   "source": [
    "## Data Model - Only Text Data"
   ]
  },
  {
   "cell_type": "code",
   "execution_count": 6,
   "id": "7248ce27",
   "metadata": {},
   "outputs": [],
   "source": [
    "X = df['rt_review']\n",
    "y = df['rt_label']\n",
    "X_train, X_test, y_train, y_test = train_test_split(X,y, random_state=42, stratify=y, test_size=0.15)"
   ]
  },
  {
   "cell_type": "markdown",
   "id": "04bf671c",
   "metadata": {},
   "source": [
    "#### LogReg & CountVectorizer"
   ]
  },
  {
   "cell_type": "code",
   "execution_count": 7,
   "id": "e7d9ee5b",
   "metadata": {},
   "outputs": [
    {
     "data": {
      "text/html": [
       "<div>\n",
       "<style scoped>\n",
       "    .dataframe tbody tr th:only-of-type {\n",
       "        vertical-align: middle;\n",
       "    }\n",
       "\n",
       "    .dataframe tbody tr th {\n",
       "        vertical-align: top;\n",
       "    }\n",
       "\n",
       "    .dataframe thead th {\n",
       "        text-align: right;\n",
       "    }\n",
       "</style>\n",
       "<table border=\"1\" class=\"dataframe\">\n",
       "  <thead>\n",
       "    <tr style=\"text-align: right;\">\n",
       "      <th></th>\n",
       "      <th>Model</th>\n",
       "      <th>Train Accuracy</th>\n",
       "      <th>Accuracy</th>\n",
       "      <th>TP</th>\n",
       "      <th>FP</th>\n",
       "      <th>TN</th>\n",
       "      <th>FN</th>\n",
       "      <th>Precision</th>\n",
       "      <th>Sensitivity</th>\n",
       "      <th>Specificity</th>\n",
       "      <th>Recall</th>\n",
       "    </tr>\n",
       "  </thead>\n",
       "  <tbody>\n",
       "    <tr>\n",
       "      <th>1</th>\n",
       "      <td>Logistic Regression with CountVectorizer</td>\n",
       "      <td>0.934783</td>\n",
       "      <td>0.7725</td>\n",
       "      <td>623</td>\n",
       "      <td>187</td>\n",
       "      <td>613</td>\n",
       "      <td>177</td>\n",
       "      <td>0.775949</td>\n",
       "      <td>0.77875</td>\n",
       "      <td>0.76625</td>\n",
       "      <td>0.76625</td>\n",
       "    </tr>\n",
       "  </tbody>\n",
       "</table>\n",
       "</div>"
      ],
      "text/plain": [
       "0                                     Model Train Accuracy Accuracy   TP   FP  \\\n",
       "1  Logistic Regression with CountVectorizer       0.934783   0.7725  623  187   \n",
       "\n",
       "0   TN   FN Precision Sensitivity Specificity   Recall  \n",
       "1  613  177  0.775949     0.77875     0.76625  0.76625  "
      ]
     },
     "execution_count": 7,
     "metadata": {},
     "output_type": "execute_result"
    }
   ],
   "source": [
    "pipe_cv_log = Pipeline([\n",
    "    ('cv',CountVectorizer()),\n",
    "    ('log', LogisticRegressionCV(solver='liblinear', max_iter=1000))\n",
    "])\n",
    "\n",
    "#fite\n",
    "pipe_cv_log.fit(X_train,y_train)\n",
    "\n",
    "#evaluate\n",
    "get_metrics(\"Logistic Regression with CountVectorizer\",pipe_cv_log, X_train, y_train, X_test, y_test)"
   ]
  },
  {
   "cell_type": "code",
   "execution_count": 8,
   "id": "b84e33bf",
   "metadata": {},
   "outputs": [
    {
     "name": "stderr",
     "output_type": "stream",
     "text": [
      "/Users/tanyashapiro/opt/anaconda3/lib/python3.8/site-packages/sklearn/utils/deprecation.py:87: FutureWarning: Function plot_confusion_matrix is deprecated; Function `plot_confusion_matrix` is deprecated in 1.0 and will be removed in 1.2. Use one of the class methods: ConfusionMatrixDisplay.from_predictions or ConfusionMatrixDisplay.from_estimator.\n",
      "  warnings.warn(msg, category=FutureWarning)\n"
     ]
    },
    {
     "data": {
      "image/png": "[encoded data removed]",
      "text/plain": [
       "<Figure size 432x288 with 2 Axes>"
      ]
     },
     "metadata": {
      "needs_background": "light"
     },
     "output_type": "display_data"
    }
   ],
   "source": [
    "plot_confusion_matrix(pipe_cv_log, X_test, y_test, cmap=\"Blues\")\n",
    "plt.title(\"Logistic Regression with CountVectorizer\");"
   ]
  },
  {
   "cell_type": "markdown",
   "id": "89e6ed30",
   "metadata": {},
   "source": [
    "### LogReg & TfidVec"
   ]
  },
  {
   "cell_type": "code",
   "execution_count": 9,
   "id": "12b86d4e",
   "metadata": {},
   "outputs": [
    {
     "data": {
      "text/html": [
       "<div>\n",
       "<style scoped>\n",
       "    .dataframe tbody tr th:only-of-type {\n",
       "        vertical-align: middle;\n",
       "    }\n",
       "\n",
       "    .dataframe tbody tr th {\n",
       "        vertical-align: top;\n",
       "    }\n",
       "\n",
       "    .dataframe thead th {\n",
       "        text-align: right;\n",
       "    }\n",
       "</style>\n",
       "<table border=\"1\" class=\"dataframe\">\n",
       "  <thead>\n",
       "    <tr style=\"text-align: right;\">\n",
       "      <th></th>\n",
       "      <th>Model</th>\n",
       "      <th>Train Accuracy</th>\n",
       "      <th>Accuracy</th>\n",
       "      <th>TP</th>\n",
       "      <th>FP</th>\n",
       "      <th>TN</th>\n",
       "      <th>FN</th>\n",
       "      <th>Precision</th>\n",
       "      <th>Sensitivity</th>\n",
       "      <th>Specificity</th>\n",
       "      <th>Recall</th>\n",
       "    </tr>\n",
       "  </thead>\n",
       "  <tbody>\n",
       "    <tr>\n",
       "      <th>1</th>\n",
       "      <td>Logistic Regression with TfidVectorizer</td>\n",
       "      <td>0.940852</td>\n",
       "      <td>0.781875</td>\n",
       "      <td>630</td>\n",
       "      <td>179</td>\n",
       "      <td>621</td>\n",
       "      <td>170</td>\n",
       "      <td>0.785082</td>\n",
       "      <td>0.7875</td>\n",
       "      <td>0.77625</td>\n",
       "      <td>0.77625</td>\n",
       "    </tr>\n",
       "  </tbody>\n",
       "</table>\n",
       "</div>"
      ],
      "text/plain": [
       "0                                    Model Train Accuracy  Accuracy   TP   FP  \\\n",
       "1  Logistic Regression with TfidVectorizer       0.940852  0.781875  630  179   \n",
       "\n",
       "0   TN   FN Precision Sensitivity Specificity   Recall  \n",
       "1  621  170  0.785082      0.7875     0.77625  0.77625  "
      ]
     },
     "execution_count": 9,
     "metadata": {},
     "output_type": "execute_result"
    }
   ],
   "source": [
    "#instantiate\n",
    "pipe_tf_log = Pipeline([\n",
    "    ('tfv',TfidfVectorizer()),\n",
    "    ('logreg', LogisticRegressionCV(solver='liblinear', max_iter=1000))\n",
    "])\n",
    "\n",
    "#fit\n",
    "pipe_tf_log.fit(X_train,y_train)\n",
    "\n",
    "#evaluate\n",
    "get_metrics(\"Logistic Regression with TfidVectorizer\",pipe_tf_log, X_train, y_train, X_test, y_test)"
   ]
  },
  {
   "cell_type": "code",
   "execution_count": 10,
   "id": "40625348",
   "metadata": {},
   "outputs": [
    {
     "name": "stderr",
     "output_type": "stream",
     "text": [
      "/Users/tanyashapiro/opt/anaconda3/lib/python3.8/site-packages/sklearn/utils/deprecation.py:87: FutureWarning: Function plot_confusion_matrix is deprecated; Function `plot_confusion_matrix` is deprecated in 1.0 and will be removed in 1.2. Use one of the class methods: ConfusionMatrixDisplay.from_predictions or ConfusionMatrixDisplay.from_estimator.\n",
      "  warnings.warn(msg, category=FutureWarning)\n"
     ]
    },
    {
     "data": {
      "image/png": "[encoded data removed]",
      "text/plain": [
       "<Figure size 432x288 with 2 Axes>"
      ]
     },
     "metadata": {
      "needs_background": "light"
     },
     "output_type": "display_data"
    }
   ],
   "source": [
    "plot_confusion_matrix(pipe_tf_log, X_test, y_test, cmap=\"Blues\")\n",
    "plt.title(\"Logistic Regression with TfidVectorizer\");"
   ]
  },
  {
   "cell_type": "markdown",
   "id": "57bda37d",
   "metadata": {},
   "source": [
    "### GridSearch with LogReg Tfid"
   ]
  },
  {
   "cell_type": "code",
   "execution_count": 11,
   "id": "2cc2c2e5",
   "metadata": {},
   "outputs": [
    {
     "name": "stdout",
     "output_type": "stream",
     "text": [
      "0.7765404139103288\n"
     ]
    },
    {
     "data": {
      "text/plain": [
       "{'tfv__min_df': 1, 'tfv__ngram_range': (1, 2), 'tfv__stop_words': None}"
      ]
     },
     "execution_count": 11,
     "metadata": {},
     "output_type": "execute_result"
    }
   ],
   "source": [
    "tfv_logreg_params  = {\n",
    "    'tfv__stop_words': [None,\"english\"],\n",
    "    'tfv__min_df': [1,2,3],\n",
    "    'tfv__ngram_range': [(1, 1),(2,2),(1,2)]\n",
    "}\n",
    "\n",
    "tfv_log_gs = GridSearchCV(pipe_tf_log, param_grid=tfv_logreg_params)\n",
    "tfv_log_gs.fit(X_train, y_train)\n",
    "print(tfv_log_gs.best_score_)\n",
    "tfv_log_gs.best_params_"
   ]
  },
  {
   "cell_type": "markdown",
   "id": "ae5e92c6",
   "metadata": {},
   "source": [
    "### Random Forest Classifiers"
   ]
  },
  {
   "cell_type": "code",
   "execution_count": 12,
   "id": "0b8e103c",
   "metadata": {},
   "outputs": [
    {
     "data": {
      "text/html": [
       "<div>\n",
       "<style scoped>\n",
       "    .dataframe tbody tr th:only-of-type {\n",
       "        vertical-align: middle;\n",
       "    }\n",
       "\n",
       "    .dataframe tbody tr th {\n",
       "        vertical-align: top;\n",
       "    }\n",
       "\n",
       "    .dataframe thead th {\n",
       "        text-align: right;\n",
       "    }\n",
       "</style>\n",
       "<table border=\"1\" class=\"dataframe\">\n",
       "  <thead>\n",
       "    <tr style=\"text-align: right;\">\n",
       "      <th></th>\n",
       "      <th>Model</th>\n",
       "      <th>Train Accuracy</th>\n",
       "      <th>Accuracy</th>\n",
       "      <th>TP</th>\n",
       "      <th>FP</th>\n",
       "      <th>TN</th>\n",
       "      <th>FN</th>\n",
       "      <th>Precision</th>\n",
       "      <th>Sensitivity</th>\n",
       "      <th>Specificity</th>\n",
       "      <th>Recall</th>\n",
       "    </tr>\n",
       "  </thead>\n",
       "  <tbody>\n",
       "    <tr>\n",
       "      <th>1</th>\n",
       "      <td>Random Forest Classifier with TFV</td>\n",
       "      <td>1.0</td>\n",
       "      <td>0.70125</td>\n",
       "      <td>575</td>\n",
       "      <td>253</td>\n",
       "      <td>547</td>\n",
       "      <td>225</td>\n",
       "      <td>0.708549</td>\n",
       "      <td>0.71875</td>\n",
       "      <td>0.68375</td>\n",
       "      <td>0.68375</td>\n",
       "    </tr>\n",
       "  </tbody>\n",
       "</table>\n",
       "</div>"
      ],
      "text/plain": [
       "0                              Model Train Accuracy Accuracy   TP   FP   TN  \\\n",
       "1  Random Forest Classifier with TFV            1.0  0.70125  575  253  547   \n",
       "\n",
       "0   FN Precision Sensitivity Specificity   Recall  \n",
       "1  225  0.708549     0.71875     0.68375  0.68375  "
      ]
     },
     "execution_count": 12,
     "metadata": {},
     "output_type": "execute_result"
    }
   ],
   "source": [
    "pipe_tf_rfc = Pipeline([\n",
    "    ('tfv',TfidfVectorizer()),\n",
    "    ('rfc', RandomForestClassifier(random_state=42))]\n",
    ")\n",
    "\n",
    "pipe_tf_rfc.fit(X_train,y_train)\n",
    "get_metrics(\"Random Forest Classifier with TFV\",pipe_tf_rfc, X_train, y_train, X_test, y_test)"
   ]
  },
  {
   "cell_type": "code",
   "execution_count": 13,
   "id": "74b540cf",
   "metadata": {},
   "outputs": [
    {
     "data": {
      "text/html": [
       "<div>\n",
       "<style scoped>\n",
       "    .dataframe tbody tr th:only-of-type {\n",
       "        vertical-align: middle;\n",
       "    }\n",
       "\n",
       "    .dataframe tbody tr th {\n",
       "        vertical-align: top;\n",
       "    }\n",
       "\n",
       "    .dataframe thead th {\n",
       "        text-align: right;\n",
       "    }\n",
       "</style>\n",
       "<table border=\"1\" class=\"dataframe\">\n",
       "  <thead>\n",
       "    <tr style=\"text-align: right;\">\n",
       "      <th></th>\n",
       "      <th>Model</th>\n",
       "      <th>Train Accuracy</th>\n",
       "      <th>Accuracy</th>\n",
       "      <th>TP</th>\n",
       "      <th>FP</th>\n",
       "      <th>TN</th>\n",
       "      <th>FN</th>\n",
       "      <th>Precision</th>\n",
       "      <th>Sensitivity</th>\n",
       "      <th>Specificity</th>\n",
       "      <th>Recall</th>\n",
       "    </tr>\n",
       "  </thead>\n",
       "  <tbody>\n",
       "    <tr>\n",
       "      <th>1</th>\n",
       "      <td>Random Forest Classifier with CV</td>\n",
       "      <td>1.0</td>\n",
       "      <td>0.701875</td>\n",
       "      <td>574</td>\n",
       "      <td>251</td>\n",
       "      <td>549</td>\n",
       "      <td>226</td>\n",
       "      <td>0.708387</td>\n",
       "      <td>0.7175</td>\n",
       "      <td>0.68625</td>\n",
       "      <td>0.68625</td>\n",
       "    </tr>\n",
       "  </tbody>\n",
       "</table>\n",
       "</div>"
      ],
      "text/plain": [
       "0                             Model Train Accuracy  Accuracy   TP   FP   TN  \\\n",
       "1  Random Forest Classifier with CV            1.0  0.701875  574  251  549   \n",
       "\n",
       "0   FN Precision Sensitivity Specificity   Recall  \n",
       "1  226  0.708387      0.7175     0.68625  0.68625  "
      ]
     },
     "execution_count": 13,
     "metadata": {},
     "output_type": "execute_result"
    }
   ],
   "source": [
    "pipe_cv_rfc = Pipeline([\n",
    "    ('cv',CountVectorizer()),\n",
    "    ('rfc', RandomForestClassifier(random_state=42))]\n",
    ")\n",
    "\n",
    "pipe_cv_rfc.fit(X_train,y_train)\n",
    "get_metrics(\"Random Forest Classifier with CV\",pipe_cv_rfc, X_train, y_train, X_test, y_test)"
   ]
  },
  {
   "cell_type": "markdown",
   "id": "a5f0ab93",
   "metadata": {},
   "source": [
    "### MultiNomial NaiveBayes"
   ]
  },
  {
   "cell_type": "code",
   "execution_count": 14,
   "id": "c165ae7b",
   "metadata": {},
   "outputs": [
    {
     "data": {
      "text/html": [
       "<div>\n",
       "<style scoped>\n",
       "    .dataframe tbody tr th:only-of-type {\n",
       "        vertical-align: middle;\n",
       "    }\n",
       "\n",
       "    .dataframe tbody tr th {\n",
       "        vertical-align: top;\n",
       "    }\n",
       "\n",
       "    .dataframe thead th {\n",
       "        text-align: right;\n",
       "    }\n",
       "</style>\n",
       "<table border=\"1\" class=\"dataframe\">\n",
       "  <thead>\n",
       "    <tr style=\"text-align: right;\">\n",
       "      <th></th>\n",
       "      <th>Model</th>\n",
       "      <th>Train Accuracy</th>\n",
       "      <th>Accuracy</th>\n",
       "      <th>TP</th>\n",
       "      <th>FP</th>\n",
       "      <th>TN</th>\n",
       "      <th>FN</th>\n",
       "      <th>Precision</th>\n",
       "      <th>Sensitivity</th>\n",
       "      <th>Specificity</th>\n",
       "      <th>Recall</th>\n",
       "    </tr>\n",
       "  </thead>\n",
       "  <tbody>\n",
       "    <tr>\n",
       "      <th>1</th>\n",
       "      <td>MultiNomial NB with TFV</td>\n",
       "      <td>0.926506</td>\n",
       "      <td>0.774375</td>\n",
       "      <td>637</td>\n",
       "      <td>198</td>\n",
       "      <td>602</td>\n",
       "      <td>163</td>\n",
       "      <td>0.786928</td>\n",
       "      <td>0.79625</td>\n",
       "      <td>0.7525</td>\n",
       "      <td>0.7525</td>\n",
       "    </tr>\n",
       "  </tbody>\n",
       "</table>\n",
       "</div>"
      ],
      "text/plain": [
       "0                    Model Train Accuracy  Accuracy   TP   FP   TN   FN  \\\n",
       "1  MultiNomial NB with TFV       0.926506  0.774375  637  198  602  163   \n",
       "\n",
       "0 Precision Sensitivity Specificity  Recall  \n",
       "1  0.786928     0.79625      0.7525  0.7525  "
      ]
     },
     "execution_count": 14,
     "metadata": {},
     "output_type": "execute_result"
    }
   ],
   "source": [
    "pipe_tf_mnb = Pipeline([\n",
    "    ('tfv',TfidfVectorizer()),\n",
    "    ('mnb', MultinomialNB())]\n",
    ")\n",
    "\n",
    "pipe_tf_mnb.fit(X_train,y_train)\n",
    "get_metrics(\"MultiNomial NB with TFV\",pipe_tf_mnb, X_train, y_train, X_test, y_test)"
   ]
  },
  {
   "cell_type": "code",
   "execution_count": null,
   "id": "61841f5c",
   "metadata": {},
   "outputs": [],
   "source": []
  },
  {
   "cell_type": "markdown",
   "id": "000c2e4d",
   "metadata": {},
   "source": [
    "### KNN"
   ]
  },
  {
   "cell_type": "code",
   "execution_count": 15,
   "id": "0f701dad",
   "metadata": {},
   "outputs": [
    {
     "data": {
      "text/html": [
       "<div>\n",
       "<style scoped>\n",
       "    .dataframe tbody tr th:only-of-type {\n",
       "        vertical-align: middle;\n",
       "    }\n",
       "\n",
       "    .dataframe tbody tr th {\n",
       "        vertical-align: top;\n",
       "    }\n",
       "\n",
       "    .dataframe thead th {\n",
       "        text-align: right;\n",
       "    }\n",
       "</style>\n",
       "<table border=\"1\" class=\"dataframe\">\n",
       "  <thead>\n",
       "    <tr style=\"text-align: right;\">\n",
       "      <th></th>\n",
       "      <th>Model</th>\n",
       "      <th>Train Accuracy</th>\n",
       "      <th>Accuracy</th>\n",
       "      <th>TP</th>\n",
       "      <th>FP</th>\n",
       "      <th>TN</th>\n",
       "      <th>FN</th>\n",
       "      <th>Precision</th>\n",
       "      <th>Sensitivity</th>\n",
       "      <th>Specificity</th>\n",
       "      <th>Recall</th>\n",
       "    </tr>\n",
       "  </thead>\n",
       "  <tbody>\n",
       "    <tr>\n",
       "      <th>1</th>\n",
       "      <td>KNN with TFV</td>\n",
       "      <td>0.825866</td>\n",
       "      <td>0.708125</td>\n",
       "      <td>557</td>\n",
       "      <td>224</td>\n",
       "      <td>576</td>\n",
       "      <td>243</td>\n",
       "      <td>0.703297</td>\n",
       "      <td>0.69625</td>\n",
       "      <td>0.72</td>\n",
       "      <td>0.72</td>\n",
       "    </tr>\n",
       "  </tbody>\n",
       "</table>\n",
       "</div>"
      ],
      "text/plain": [
       "0         Model Train Accuracy  Accuracy   TP   FP   TN   FN Precision  \\\n",
       "1  KNN with TFV       0.825866  0.708125  557  224  576  243  0.703297   \n",
       "\n",
       "0 Sensitivity Specificity Recall  \n",
       "1     0.69625        0.72   0.72  "
      ]
     },
     "execution_count": 15,
     "metadata": {},
     "output_type": "execute_result"
    }
   ],
   "source": [
    "pipe_tfv_knn = Pipeline([\n",
    "    ('tfv',TfidfVectorizer()),\n",
    "    ('knn', KNeighborsClassifier())]\n",
    ")\n",
    "\n",
    "pipe_tfv_knn.fit(X_train,y_train)\n",
    "get_metrics(\"KNN with TFV\",pipe_tfv_knn, X_train, y_train, X_test, y_test)"
   ]
  },
  {
   "cell_type": "markdown",
   "id": "1b59a9a2",
   "metadata": {},
   "source": [
    "### SVM"
   ]
  },
  {
   "cell_type": "code",
   "execution_count": 16,
   "id": "f217835a",
   "metadata": {},
   "outputs": [
    {
     "data": {
      "text/html": [
       "<div>\n",
       "<style scoped>\n",
       "    .dataframe tbody tr th:only-of-type {\n",
       "        vertical-align: middle;\n",
       "    }\n",
       "\n",
       "    .dataframe tbody tr th {\n",
       "        vertical-align: top;\n",
       "    }\n",
       "\n",
       "    .dataframe thead th {\n",
       "        text-align: right;\n",
       "    }\n",
       "</style>\n",
       "<table border=\"1\" class=\"dataframe\">\n",
       "  <thead>\n",
       "    <tr style=\"text-align: right;\">\n",
       "      <th></th>\n",
       "      <th>Model</th>\n",
       "      <th>Train Accuracy</th>\n",
       "      <th>Accuracy</th>\n",
       "      <th>TP</th>\n",
       "      <th>FP</th>\n",
       "      <th>TN</th>\n",
       "      <th>FN</th>\n",
       "      <th>Precision</th>\n",
       "      <th>Sensitivity</th>\n",
       "      <th>Specificity</th>\n",
       "      <th>Recall</th>\n",
       "    </tr>\n",
       "  </thead>\n",
       "  <tbody>\n",
       "    <tr>\n",
       "      <th>1</th>\n",
       "      <td>SVM with TFV</td>\n",
       "      <td>0.935665</td>\n",
       "      <td>0.785</td>\n",
       "      <td>645</td>\n",
       "      <td>189</td>\n",
       "      <td>611</td>\n",
       "      <td>155</td>\n",
       "      <td>0.79765</td>\n",
       "      <td>0.80625</td>\n",
       "      <td>0.76375</td>\n",
       "      <td>0.76375</td>\n",
       "    </tr>\n",
       "  </tbody>\n",
       "</table>\n",
       "</div>"
      ],
      "text/plain": [
       "0         Model Train Accuracy Accuracy   TP   FP   TN   FN Precision  \\\n",
       "1  SVM with TFV       0.935665    0.785  645  189  611  155   0.79765   \n",
       "\n",
       "0 Sensitivity Specificity   Recall  \n",
       "1     0.80625     0.76375  0.76375  "
      ]
     },
     "execution_count": 16,
     "metadata": {},
     "output_type": "execute_result"
    }
   ],
   "source": [
    "pipe_tfv_svm = Pipeline([\n",
    "    ('tfv',TfidfVectorizer()),\n",
    "    ('svm', svm.SVC(C=1.0, kernel='linear', degree=3, gamma='auto'))]\n",
    ")\n",
    "\n",
    "pipe_tfv_svm.fit(X_train,y_train)\n",
    "    \n",
    "get_metrics(\"SVM with TFV\",pipe_tfv_svm, X_train, y_train, X_test, y_test)"
   ]
  },
  {
   "cell_type": "code",
   "execution_count": 17,
   "id": "e81ba3ee",
   "metadata": {},
   "outputs": [
    {
     "data": {
      "text/html": [
       "<div>\n",
       "<style scoped>\n",
       "    .dataframe tbody tr th:only-of-type {\n",
       "        vertical-align: middle;\n",
       "    }\n",
       "\n",
       "    .dataframe tbody tr th {\n",
       "        vertical-align: top;\n",
       "    }\n",
       "\n",
       "    .dataframe thead th {\n",
       "        text-align: right;\n",
       "    }\n",
       "</style>\n",
       "<table border=\"1\" class=\"dataframe\">\n",
       "  <thead>\n",
       "    <tr style=\"text-align: right;\">\n",
       "      <th></th>\n",
       "      <th>Model</th>\n",
       "      <th>Train Accuracy</th>\n",
       "      <th>Accuracy</th>\n",
       "      <th>TP</th>\n",
       "      <th>FP</th>\n",
       "      <th>TN</th>\n",
       "      <th>FN</th>\n",
       "      <th>Precision</th>\n",
       "      <th>Sensitivity</th>\n",
       "      <th>Specificity</th>\n",
       "      <th>Recall</th>\n",
       "    </tr>\n",
       "  </thead>\n",
       "  <tbody>\n",
       "    <tr>\n",
       "      <th>1</th>\n",
       "      <td>Logistic Regression with CV</td>\n",
       "      <td>0.934783</td>\n",
       "      <td>0.7725</td>\n",
       "      <td>623</td>\n",
       "      <td>187</td>\n",
       "      <td>613</td>\n",
       "      <td>177</td>\n",
       "      <td>0.775949</td>\n",
       "      <td>0.77875</td>\n",
       "      <td>0.76625</td>\n",
       "      <td>0.76625</td>\n",
       "    </tr>\n",
       "    <tr>\n",
       "      <th>1</th>\n",
       "      <td>Logistic Regression with TFV</td>\n",
       "      <td>0.940852</td>\n",
       "      <td>0.781875</td>\n",
       "      <td>630</td>\n",
       "      <td>179</td>\n",
       "      <td>621</td>\n",
       "      <td>170</td>\n",
       "      <td>0.785082</td>\n",
       "      <td>0.7875</td>\n",
       "      <td>0.77625</td>\n",
       "      <td>0.77625</td>\n",
       "    </tr>\n",
       "    <tr>\n",
       "      <th>1</th>\n",
       "      <td>MultiNomial NB with TFV</td>\n",
       "      <td>0.926506</td>\n",
       "      <td>0.774375</td>\n",
       "      <td>637</td>\n",
       "      <td>198</td>\n",
       "      <td>602</td>\n",
       "      <td>163</td>\n",
       "      <td>0.786928</td>\n",
       "      <td>0.79625</td>\n",
       "      <td>0.7525</td>\n",
       "      <td>0.7525</td>\n",
       "    </tr>\n",
       "    <tr>\n",
       "      <th>1</th>\n",
       "      <td>KNN with TFV</td>\n",
       "      <td>0.825866</td>\n",
       "      <td>0.708125</td>\n",
       "      <td>557</td>\n",
       "      <td>224</td>\n",
       "      <td>576</td>\n",
       "      <td>243</td>\n",
       "      <td>0.703297</td>\n",
       "      <td>0.69625</td>\n",
       "      <td>0.72</td>\n",
       "      <td>0.72</td>\n",
       "    </tr>\n",
       "    <tr>\n",
       "      <th>1</th>\n",
       "      <td>SVM with TFV</td>\n",
       "      <td>0.935665</td>\n",
       "      <td>0.785</td>\n",
       "      <td>645</td>\n",
       "      <td>189</td>\n",
       "      <td>611</td>\n",
       "      <td>155</td>\n",
       "      <td>0.79765</td>\n",
       "      <td>0.80625</td>\n",
       "      <td>0.76375</td>\n",
       "      <td>0.76375</td>\n",
       "    </tr>\n",
       "    <tr>\n",
       "      <th>1</th>\n",
       "      <td>Random Forest Classifier with CV</td>\n",
       "      <td>1.0</td>\n",
       "      <td>0.701875</td>\n",
       "      <td>574</td>\n",
       "      <td>251</td>\n",
       "      <td>549</td>\n",
       "      <td>226</td>\n",
       "      <td>0.708387</td>\n",
       "      <td>0.7175</td>\n",
       "      <td>0.68625</td>\n",
       "      <td>0.68625</td>\n",
       "    </tr>\n",
       "    <tr>\n",
       "      <th>1</th>\n",
       "      <td>Random Forest Classifier with TFV</td>\n",
       "      <td>1.0</td>\n",
       "      <td>0.70125</td>\n",
       "      <td>575</td>\n",
       "      <td>253</td>\n",
       "      <td>547</td>\n",
       "      <td>225</td>\n",
       "      <td>0.708549</td>\n",
       "      <td>0.71875</td>\n",
       "      <td>0.68375</td>\n",
       "      <td>0.68375</td>\n",
       "    </tr>\n",
       "  </tbody>\n",
       "</table>\n",
       "</div>"
      ],
      "text/plain": [
       "0                              Model Train Accuracy  Accuracy   TP   FP   TN  \\\n",
       "1        Logistic Regression with CV       0.934783    0.7725  623  187  613   \n",
       "1       Logistic Regression with TFV       0.940852  0.781875  630  179  621   \n",
       "1            MultiNomial NB with TFV       0.926506  0.774375  637  198  602   \n",
       "1                       KNN with TFV       0.825866  0.708125  557  224  576   \n",
       "1                       SVM with TFV       0.935665     0.785  645  189  611   \n",
       "1   Random Forest Classifier with CV            1.0  0.701875  574  251  549   \n",
       "1  Random Forest Classifier with TFV            1.0   0.70125  575  253  547   \n",
       "\n",
       "0   FN Precision Sensitivity Specificity   Recall  \n",
       "1  177  0.775949     0.77875     0.76625  0.76625  \n",
       "1  170  0.785082      0.7875     0.77625  0.77625  \n",
       "1  163  0.786928     0.79625      0.7525   0.7525  \n",
       "1  243  0.703297     0.69625        0.72     0.72  \n",
       "1  155   0.79765     0.80625     0.76375  0.76375  \n",
       "1  226  0.708387      0.7175     0.68625  0.68625  \n",
       "1  225  0.708549     0.71875     0.68375  0.68375  "
      ]
     },
     "execution_count": 17,
     "metadata": {},
     "output_type": "execute_result"
    }
   ],
   "source": [
    "results = pd.concat(\n",
    "[get_metrics(\"Logistic Regression with CV\",pipe_cv_log, X_train, y_train, X_test, y_test),\n",
    "get_metrics(\"Logistic Regression with TFV\",pipe_tf_log, X_train, y_train, X_test, y_test),\n",
    "get_metrics(\"MultiNomial NB with TFV\",pipe_tf_mnb, X_train, y_train, X_test, y_test),\n",
    "get_metrics(\"KNN with TFV\",pipe_tfv_knn, X_train, y_train, X_test, y_test),\n",
    "get_metrics(\"SVM with TFV\",pipe_tfv_svm, X_train, y_train, X_test, y_test),\n",
    "get_metrics(\"Random Forest Classifier with CV\",pipe_cv_rfc, X_train, y_train, X_test, y_test),\n",
    "get_metrics(\"Random Forest Classifier with TFV\",pipe_tf_rfc, X_train, y_train, X_test, y_test)]\n",
    ")\n",
    "\n",
    "results "
   ]
  },
  {
   "cell_type": "code",
   "execution_count": 18,
   "id": "aac38a9d",
   "metadata": {},
   "outputs": [],
   "source": [
    "results.to_csv(\"../data/results_just_text.csv\")"
   ]
  },
  {
   "cell_type": "markdown",
   "id": "d18f9934",
   "metadata": {},
   "source": [
    "## Data Model - Text & Quantitative Data (Affin Score)"
   ]
  },
  {
   "cell_type": "code",
   "execution_count": 19,
   "id": "23a9e27b",
   "metadata": {},
   "outputs": [
    {
     "name": "stderr",
     "output_type": "stream",
     "text": [
      "/Users/tanyashapiro/opt/anaconda3/lib/python3.8/site-packages/sklearn/utils/deprecation.py:87: FutureWarning: Function get_feature_names is deprecated; get_feature_names is deprecated in 1.0 and will be removed in 1.2. Please use get_feature_names_out instead.\n",
      "  warnings.warn(msg, category=FutureWarning)\n"
     ]
    },
    {
     "data": {
      "text/html": [
       "<div>\n",
       "<style scoped>\n",
       "    .dataframe tbody tr th:only-of-type {\n",
       "        vertical-align: middle;\n",
       "    }\n",
       "\n",
       "    .dataframe tbody tr th {\n",
       "        vertical-align: top;\n",
       "    }\n",
       "\n",
       "    .dataframe thead th {\n",
       "        text-align: right;\n",
       "    }\n",
       "</style>\n",
       "<table border=\"1\" class=\"dataframe\">\n",
       "  <thead>\n",
       "    <tr style=\"text-align: right;\">\n",
       "      <th></th>\n",
       "      <th>rt_review</th>\n",
       "      <th>rt_target</th>\n",
       "      <th>char_length</th>\n",
       "      <th>word_count</th>\n",
       "      <th>rt_label</th>\n",
       "      <th>afinn_score</th>\n",
       "      <th>afinn_type</th>\n",
       "      <th>00</th>\n",
       "      <th>000</th>\n",
       "      <th>007</th>\n",
       "      <th>...</th>\n",
       "      <th>zwick</th>\n",
       "      <th>zzzzzzzzz</th>\n",
       "      <th>às</th>\n",
       "      <th>ápice</th>\n",
       "      <th>élan</th>\n",
       "      <th>ótimo</th>\n",
       "      <th>último</th>\n",
       "      <th>últimos</th>\n",
       "      <th>única</th>\n",
       "      <th>único</th>\n",
       "    </tr>\n",
       "  </thead>\n",
       "  <tbody>\n",
       "    <tr>\n",
       "      <th>0</th>\n",
       "      <td>simplistic , silly and tedious .</td>\n",
       "      <td>0</td>\n",
       "      <td>33</td>\n",
       "      <td>6</td>\n",
       "      <td>Rotten</td>\n",
       "      <td>-1.0</td>\n",
       "      <td>Negative</td>\n",
       "      <td>0</td>\n",
       "      <td>0</td>\n",
       "      <td>0</td>\n",
       "      <td>...</td>\n",
       "      <td>0</td>\n",
       "      <td>0</td>\n",
       "      <td>0</td>\n",
       "      <td>0</td>\n",
       "      <td>0</td>\n",
       "      <td>0</td>\n",
       "      <td>0</td>\n",
       "      <td>0</td>\n",
       "      <td>0</td>\n",
       "      <td>0</td>\n",
       "    </tr>\n",
       "    <tr>\n",
       "      <th>1</th>\n",
       "      <td>it's so laddish and juvenile , only teenage bo...</td>\n",
       "      <td>0</td>\n",
       "      <td>80</td>\n",
       "      <td>15</td>\n",
       "      <td>Rotten</td>\n",
       "      <td>4.0</td>\n",
       "      <td>Positive</td>\n",
       "      <td>0</td>\n",
       "      <td>0</td>\n",
       "      <td>0</td>\n",
       "      <td>...</td>\n",
       "      <td>0</td>\n",
       "      <td>0</td>\n",
       "      <td>0</td>\n",
       "      <td>0</td>\n",
       "      <td>0</td>\n",
       "      <td>0</td>\n",
       "      <td>0</td>\n",
       "      <td>0</td>\n",
       "      <td>0</td>\n",
       "      <td>0</td>\n",
       "    </tr>\n",
       "    <tr>\n",
       "      <th>2</th>\n",
       "      <td>exploitative and largely devoid of the depth o...</td>\n",
       "      <td>0</td>\n",
       "      <td>138</td>\n",
       "      <td>22</td>\n",
       "      <td>Rotten</td>\n",
       "      <td>-3.0</td>\n",
       "      <td>Negative</td>\n",
       "      <td>0</td>\n",
       "      <td>0</td>\n",
       "      <td>0</td>\n",
       "      <td>...</td>\n",
       "      <td>0</td>\n",
       "      <td>0</td>\n",
       "      <td>0</td>\n",
       "      <td>0</td>\n",
       "      <td>0</td>\n",
       "      <td>0</td>\n",
       "      <td>0</td>\n",
       "      <td>0</td>\n",
       "      <td>0</td>\n",
       "      <td>0</td>\n",
       "    </tr>\n",
       "  </tbody>\n",
       "</table>\n",
       "<p>3 rows × 18337 columns</p>\n",
       "</div>"
      ],
      "text/plain": [
       "                                           rt_review  rt_target  char_length  \\\n",
       "0                  simplistic , silly and tedious .           0           33   \n",
       "1  it's so laddish and juvenile , only teenage bo...          0           80   \n",
       "2  exploitative and largely devoid of the depth o...          0          138   \n",
       "\n",
       "   word_count rt_label  afinn_score afinn_type  00  000  007  ...  zwick  \\\n",
       "0           6   Rotten         -1.0   Negative   0    0    0  ...      0   \n",
       "1          15   Rotten          4.0   Positive   0    0    0  ...      0   \n",
       "2          22   Rotten         -3.0   Negative   0    0    0  ...      0   \n",
       "\n",
       "   zzzzzzzzz  às  ápice  élan  ótimo  último  últimos  única  único  \n",
       "0          0   0      0     0      0       0        0      0      0  \n",
       "1          0   0      0     0      0       0        0      0      0  \n",
       "2          0   0      0     0      0       0        0      0      0  \n",
       "\n",
       "[3 rows x 18337 columns]"
      ]
     },
     "execution_count": 19,
     "metadata": {},
     "output_type": "execute_result"
    }
   ],
   "source": [
    "cv = CountVectorizer(stop_words=None,\n",
    "                         ngram_range = (1,1),\n",
    "                         min_df= 1)\n",
    "cv.fit(df['rt_review'])\n",
    "cv_text = cv.transform(df['rt_review'])\n",
    "df_cv = pd.DataFrame(cv_text.todense(),columns=cv.get_feature_names())\n",
    "cv_data = pd.merge(df, df_cv, left_index=True, right_index=True)\n",
    "cv_data.head(3)"
   ]
  },
  {
   "cell_type": "code",
   "execution_count": 20,
   "id": "ce0aa666",
   "metadata": {},
   "outputs": [],
   "source": [
    "X2 = cv_data.drop(columns = ['rt_review','rt_target','rt_label','afinn_type'])\n",
    "y2 = cv_data['rt_label']\n",
    "X_train2, X_test2, y_train2, y_test2 = train_test_split(X2,y2, random_state=42, stratify=y, test_size=0.2)"
   ]
  },
  {
   "cell_type": "code",
   "execution_count": 21,
   "id": "c459d758",
   "metadata": {},
   "outputs": [
    {
     "data": {
      "text/html": [
       "<div>\n",
       "<style scoped>\n",
       "    .dataframe tbody tr th:only-of-type {\n",
       "        vertical-align: middle;\n",
       "    }\n",
       "\n",
       "    .dataframe tbody tr th {\n",
       "        vertical-align: top;\n",
       "    }\n",
       "\n",
       "    .dataframe thead th {\n",
       "        text-align: right;\n",
       "    }\n",
       "</style>\n",
       "<table border=\"1\" class=\"dataframe\">\n",
       "  <thead>\n",
       "    <tr style=\"text-align: right;\">\n",
       "      <th></th>\n",
       "      <th>Model</th>\n",
       "      <th>Train Accuracy</th>\n",
       "      <th>Accuracy</th>\n",
       "      <th>TP</th>\n",
       "      <th>FP</th>\n",
       "      <th>TN</th>\n",
       "      <th>FN</th>\n",
       "      <th>Precision</th>\n",
       "      <th>Sensitivity</th>\n",
       "      <th>Specificity</th>\n",
       "      <th>Recall</th>\n",
       "    </tr>\n",
       "  </thead>\n",
       "  <tbody>\n",
       "    <tr>\n",
       "      <th>1</th>\n",
       "      <td>LogReg Full Data</td>\n",
       "      <td>0.927541</td>\n",
       "      <td>0.766057</td>\n",
       "      <td>837</td>\n",
       "      <td>270</td>\n",
       "      <td>797</td>\n",
       "      <td>229</td>\n",
       "      <td>0.776803</td>\n",
       "      <td>0.785178</td>\n",
       "      <td>0.746954</td>\n",
       "      <td>0.746954</td>\n",
       "    </tr>\n",
       "  </tbody>\n",
       "</table>\n",
       "</div>"
      ],
      "text/plain": [
       "0             Model Train Accuracy  Accuracy   TP   FP   TN   FN Precision  \\\n",
       "1  LogReg Full Data       0.927541  0.766057  837  270  797  229  0.776803   \n",
       "\n",
       "0 Sensitivity Specificity    Recall  \n",
       "1    0.785178    0.746954  0.746954  "
      ]
     },
     "execution_count": 21,
     "metadata": {},
     "output_type": "execute_result"
    }
   ],
   "source": [
    "logreg = LogisticRegressionCV(solver='liblinear', max_iter=1000)\n",
    "\n",
    "logreg.fit(X_train2, y_train2)\n",
    "\n",
    "get_metrics(\"LogReg Full Data\",logreg, X_train2, y_train2, X_test2, y_test2)"
   ]
  },
  {
   "cell_type": "code",
   "execution_count": 22,
   "id": "34164e55",
   "metadata": {},
   "outputs": [
    {
     "name": "stderr",
     "output_type": "stream",
     "text": [
      "/Users/tanyashapiro/opt/anaconda3/lib/python3.8/site-packages/sklearn/utils/deprecation.py:87: FutureWarning: Function get_feature_names is deprecated; get_feature_names is deprecated in 1.0 and will be removed in 1.2. Please use get_feature_names_out instead.\n",
      "  warnings.warn(msg, category=FutureWarning)\n"
     ]
    },
    {
     "data": {
      "text/html": [
       "<div>\n",
       "<style scoped>\n",
       "    .dataframe tbody tr th:only-of-type {\n",
       "        vertical-align: middle;\n",
       "    }\n",
       "\n",
       "    .dataframe tbody tr th {\n",
       "        vertical-align: top;\n",
       "    }\n",
       "\n",
       "    .dataframe thead th {\n",
       "        text-align: right;\n",
       "    }\n",
       "</style>\n",
       "<table border=\"1\" class=\"dataframe\">\n",
       "  <thead>\n",
       "    <tr style=\"text-align: right;\">\n",
       "      <th></th>\n",
       "      <th>rt_review</th>\n",
       "      <th>rt_target</th>\n",
       "      <th>char_length</th>\n",
       "      <th>word_count</th>\n",
       "      <th>rt_label</th>\n",
       "      <th>afinn_score</th>\n",
       "      <th>afinn_type</th>\n",
       "      <th>00</th>\n",
       "      <th>000</th>\n",
       "      <th>007</th>\n",
       "      <th>...</th>\n",
       "      <th>zwick</th>\n",
       "      <th>zzzzzzzzz</th>\n",
       "      <th>às</th>\n",
       "      <th>ápice</th>\n",
       "      <th>élan</th>\n",
       "      <th>ótimo</th>\n",
       "      <th>último</th>\n",
       "      <th>últimos</th>\n",
       "      <th>única</th>\n",
       "      <th>único</th>\n",
       "    </tr>\n",
       "  </thead>\n",
       "  <tbody>\n",
       "    <tr>\n",
       "      <th>0</th>\n",
       "      <td>simplistic , silly and tedious .</td>\n",
       "      <td>0</td>\n",
       "      <td>33</td>\n",
       "      <td>6</td>\n",
       "      <td>Rotten</td>\n",
       "      <td>-1.0</td>\n",
       "      <td>Negative</td>\n",
       "      <td>0.0</td>\n",
       "      <td>0.0</td>\n",
       "      <td>0.0</td>\n",
       "      <td>...</td>\n",
       "      <td>0.0</td>\n",
       "      <td>0.0</td>\n",
       "      <td>0.0</td>\n",
       "      <td>0.0</td>\n",
       "      <td>0.0</td>\n",
       "      <td>0.0</td>\n",
       "      <td>0.0</td>\n",
       "      <td>0.0</td>\n",
       "      <td>0.0</td>\n",
       "      <td>0.0</td>\n",
       "    </tr>\n",
       "    <tr>\n",
       "      <th>1</th>\n",
       "      <td>it's so laddish and juvenile , only teenage bo...</td>\n",
       "      <td>0</td>\n",
       "      <td>80</td>\n",
       "      <td>15</td>\n",
       "      <td>Rotten</td>\n",
       "      <td>4.0</td>\n",
       "      <td>Positive</td>\n",
       "      <td>0.0</td>\n",
       "      <td>0.0</td>\n",
       "      <td>0.0</td>\n",
       "      <td>...</td>\n",
       "      <td>0.0</td>\n",
       "      <td>0.0</td>\n",
       "      <td>0.0</td>\n",
       "      <td>0.0</td>\n",
       "      <td>0.0</td>\n",
       "      <td>0.0</td>\n",
       "      <td>0.0</td>\n",
       "      <td>0.0</td>\n",
       "      <td>0.0</td>\n",
       "      <td>0.0</td>\n",
       "    </tr>\n",
       "    <tr>\n",
       "      <th>2</th>\n",
       "      <td>exploitative and largely devoid of the depth o...</td>\n",
       "      <td>0</td>\n",
       "      <td>138</td>\n",
       "      <td>22</td>\n",
       "      <td>Rotten</td>\n",
       "      <td>-3.0</td>\n",
       "      <td>Negative</td>\n",
       "      <td>0.0</td>\n",
       "      <td>0.0</td>\n",
       "      <td>0.0</td>\n",
       "      <td>...</td>\n",
       "      <td>0.0</td>\n",
       "      <td>0.0</td>\n",
       "      <td>0.0</td>\n",
       "      <td>0.0</td>\n",
       "      <td>0.0</td>\n",
       "      <td>0.0</td>\n",
       "      <td>0.0</td>\n",
       "      <td>0.0</td>\n",
       "      <td>0.0</td>\n",
       "      <td>0.0</td>\n",
       "    </tr>\n",
       "  </tbody>\n",
       "</table>\n",
       "<p>3 rows × 18337 columns</p>\n",
       "</div>"
      ],
      "text/plain": [
       "                                           rt_review  rt_target  char_length  \\\n",
       "0                  simplistic , silly and tedious .           0           33   \n",
       "1  it's so laddish and juvenile , only teenage bo...          0           80   \n",
       "2  exploitative and largely devoid of the depth o...          0          138   \n",
       "\n",
       "   word_count rt_label  afinn_score afinn_type   00  000  007  ...  zwick  \\\n",
       "0           6   Rotten         -1.0   Negative  0.0  0.0  0.0  ...    0.0   \n",
       "1          15   Rotten          4.0   Positive  0.0  0.0  0.0  ...    0.0   \n",
       "2          22   Rotten         -3.0   Negative  0.0  0.0  0.0  ...    0.0   \n",
       "\n",
       "   zzzzzzzzz   às  ápice  élan  ótimo  último  últimos  única  único  \n",
       "0        0.0  0.0    0.0   0.0    0.0     0.0      0.0    0.0    0.0  \n",
       "1        0.0  0.0    0.0   0.0    0.0     0.0      0.0    0.0    0.0  \n",
       "2        0.0  0.0    0.0   0.0    0.0     0.0      0.0    0.0    0.0  \n",
       "\n",
       "[3 rows x 18337 columns]"
      ]
     },
     "execution_count": 22,
     "metadata": {},
     "output_type": "execute_result"
    }
   ],
   "source": [
    "TfidfVectorizer()\n",
    "\n",
    "tfv = TfidfVectorizer(stop_words=None,\n",
    "                         ngram_range = (1,1),\n",
    "                         min_df= 1)\n",
    "tfv.fit(df['rt_review'])\n",
    "tfv_text = tfv.transform(df['rt_review'])\n",
    "df_tfv = pd.DataFrame(tfv_text.todense(),columns=cv.get_feature_names())\n",
    "tfv_data = pd.merge(df, df_tfv, left_index=True, right_index=True)\n",
    "tfv_data.head(3)"
   ]
  },
  {
   "cell_type": "code",
   "execution_count": 23,
   "id": "1e7d46b4",
   "metadata": {},
   "outputs": [],
   "source": [
    "X3 = tfv_data.drop(columns = ['rt_review','rt_target','rt_label','afinn_type'])\n",
    "y3 = tfv_data['rt_label']\n",
    "X_train3, X_test3, y_train3, y_test3 = train_test_split(X3,y3, random_state=42, stratify=y, test_size=0.2)"
   ]
  },
  {
   "cell_type": "code",
   "execution_count": 24,
   "id": "44bcfa83",
   "metadata": {},
   "outputs": [
    {
     "data": {
      "text/html": [
       "<div>\n",
       "<style scoped>\n",
       "    .dataframe tbody tr th:only-of-type {\n",
       "        vertical-align: middle;\n",
       "    }\n",
       "\n",
       "    .dataframe tbody tr th {\n",
       "        vertical-align: top;\n",
       "    }\n",
       "\n",
       "    .dataframe thead th {\n",
       "        text-align: right;\n",
       "    }\n",
       "</style>\n",
       "<table border=\"1\" class=\"dataframe\">\n",
       "  <thead>\n",
       "    <tr style=\"text-align: right;\">\n",
       "      <th></th>\n",
       "      <th>Model</th>\n",
       "      <th>Train Accuracy</th>\n",
       "      <th>Accuracy</th>\n",
       "      <th>TP</th>\n",
       "      <th>FP</th>\n",
       "      <th>TN</th>\n",
       "      <th>FN</th>\n",
       "      <th>Precision</th>\n",
       "      <th>Sensitivity</th>\n",
       "      <th>Specificity</th>\n",
       "      <th>Recall</th>\n",
       "    </tr>\n",
       "  </thead>\n",
       "  <tbody>\n",
       "    <tr>\n",
       "      <th>1</th>\n",
       "      <td>LogReg with TFV - Full Data</td>\n",
       "      <td>0.933521</td>\n",
       "      <td>0.772152</td>\n",
       "      <td>831</td>\n",
       "      <td>251</td>\n",
       "      <td>816</td>\n",
       "      <td>235</td>\n",
       "      <td>0.776403</td>\n",
       "      <td>0.77955</td>\n",
       "      <td>0.764761</td>\n",
       "      <td>0.764761</td>\n",
       "    </tr>\n",
       "  </tbody>\n",
       "</table>\n",
       "</div>"
      ],
      "text/plain": [
       "0                        Model Train Accuracy  Accuracy   TP   FP   TN   FN  \\\n",
       "1  LogReg with TFV - Full Data       0.933521  0.772152  831  251  816  235   \n",
       "\n",
       "0 Precision Sensitivity Specificity    Recall  \n",
       "1  0.776403     0.77955    0.764761  0.764761  "
      ]
     },
     "execution_count": 24,
     "metadata": {},
     "output_type": "execute_result"
    }
   ],
   "source": [
    "logreg2 = LogisticRegressionCV(solver='liblinear', max_iter=1000)\n",
    "\n",
    "logreg2.fit(X_train3, y_train3)\n",
    "\n",
    "get_metrics(\"LogReg with TFV - Full Data\",logreg2, X_train3, y_train3, X_test3, y_test3)"
   ]
  },
  {
   "cell_type": "markdown",
   "id": "47f1aa52",
   "metadata": {},
   "source": [
    "## Misclassification Analysis"
   ]
  },
  {
   "cell_type": "code",
   "execution_count": 28,
   "id": "f8a9da06",
   "metadata": {},
   "outputs": [
    {
     "data": {
      "text/html": [
       "<div>\n",
       "<style scoped>\n",
       "    .dataframe tbody tr th:only-of-type {\n",
       "        vertical-align: middle;\n",
       "    }\n",
       "\n",
       "    .dataframe tbody tr th {\n",
       "        vertical-align: top;\n",
       "    }\n",
       "\n",
       "    .dataframe thead th {\n",
       "        text-align: right;\n",
       "    }\n",
       "</style>\n",
       "<table border=\"1\" class=\"dataframe\">\n",
       "  <thead>\n",
       "    <tr style=\"text-align: right;\">\n",
       "      <th></th>\n",
       "      <th>index</th>\n",
       "      <th>rt_review</th>\n",
       "      <th>rt_label</th>\n",
       "      <th>prediction</th>\n",
       "      <th>outcome</th>\n",
       "    </tr>\n",
       "  </thead>\n",
       "  <tbody>\n",
       "    <tr>\n",
       "      <th>0</th>\n",
       "      <td>1681</td>\n",
       "      <td>minority report is exactly what the title indi...</td>\n",
       "      <td>Rotten</td>\n",
       "      <td>Rotten</td>\n",
       "      <td>True</td>\n",
       "    </tr>\n",
       "    <tr>\n",
       "      <th>1</th>\n",
       "      <td>2076</td>\n",
       "      <td>. . . ( like ) channel surfing between the di...</td>\n",
       "      <td>Rotten</td>\n",
       "      <td>Rotten</td>\n",
       "      <td>True</td>\n",
       "    </tr>\n",
       "    <tr>\n",
       "      <th>2</th>\n",
       "      <td>9421</td>\n",
       "      <td>worth a salute just for trying to be more comp...</td>\n",
       "      <td>Fresh</td>\n",
       "      <td>Fresh</td>\n",
       "      <td>True</td>\n",
       "    </tr>\n",
       "  </tbody>\n",
       "</table>\n",
       "</div>"
      ],
      "text/plain": [
       "   index                                          rt_review rt_label  \\\n",
       "0   1681  minority report is exactly what the title indi...   Rotten   \n",
       "1   2076   . . . ( like ) channel surfing between the di...   Rotten   \n",
       "2   9421  worth a salute just for trying to be more comp...    Fresh   \n",
       "\n",
       "  prediction  outcome  \n",
       "0     Rotten     True  \n",
       "1     Rotten     True  \n",
       "2      Fresh     True  "
      ]
     },
     "execution_count": 28,
     "metadata": {},
     "output_type": "execute_result"
    }
   ],
   "source": [
    "preds = get_preds_df(pipe_tfv_svm, X_train, y_train, X_test, y_test)\n",
    "preds.head(3)"
   ]
  },
  {
   "cell_type": "code",
   "execution_count": 38,
   "id": "012d6eac",
   "metadata": {},
   "outputs": [
    {
     "data": {
      "text/plain": [
       "[\"it's so good that you can practically see the hollywood 'suits' trying to put together the cast and filmmaking team for the all-too -inevitable american remake . \",\n",
       " 'grant is certainly amusing , but the very hollowness of the character he plays keeps him at arms length',\n",
       " \"its maker , steven spielberg , hasn't had so much fun in two decades , since he was schlepping indiana jones around the globe in search of a giant misplaced ashtray . \",\n",
       " 'by not averting his eyes , solondz forces us to consider the unthinkable , the unacceptable , the unmentionable . ',\n",
       " 'as underwater ghost stories go , below casts its spooky net out into the atlantic ocean and spits it back , grizzled and charred , somewhere northwest of the bermuda triangle . ']"
      ]
     },
     "execution_count": 38,
     "metadata": {},
     "output_type": "execute_result"
    }
   ],
   "source": [
    "misclass = preds[preds.outcome==False]\n",
    "list(misclass[misclass.rt_label=='Fresh']['rt_review'])[0:5]"
   ]
  },
  {
   "cell_type": "code",
   "execution_count": 39,
   "id": "47347b94",
   "metadata": {},
   "outputs": [
    {
     "data": {
      "text/plain": [
       "['about as satisfying and predictable as the fare at your local drive through . ',\n",
       " \"'ejemplo de una cinta en que no importa el talento de su reparto o lo interesante que pudo haber resultado su premisa , pues el resultado es francamente aburrido y , por momentos , deplorable . '\",\n",
       " \"although purportedly a study in modern alienation , it's really little more than a particularly slanted , gay s/m fantasy , enervating and deadeningly drawn-out . \",\n",
       " 'this is for the most part a useless movie , even with a great director at the helm . ',\n",
       " 'innocuous enough to make even jean-claude van damme look good . ']"
      ]
     },
     "execution_count": 39,
     "metadata": {},
     "output_type": "execute_result"
    }
   ],
   "source": [
    "misclass = preds[preds.outcome==False]\n",
    "list(misclass[misclass.rt_label=='Rotten']['rt_review'])[0:5]"
   ]
  },
  {
   "cell_type": "markdown",
   "id": "a0e985c7",
   "metadata": {},
   "source": [
    "### Export Model as Pickle File"
   ]
  },
  {
   "cell_type": "code",
   "execution_count": null,
   "id": "38b8c1a5",
   "metadata": {},
   "outputs": [],
   "source": [
    "#import pickle\n",
    "#with open('../model/svm_pipe.pkl', 'wb') as pickle_out:\n",
    "#    pickle_out = pickle.dump(pipe_tfv_svm, pickle_out)"
   ]
  }
 ],
 "metadata": {
  "kernelspec": {
   "display_name": "Python 3 (ipykernel)",
   "language": "python",
   "name": "python3"
  },
  "language_info": {
   "codemirror_mode": {
    "name": "ipython",
    "version": 3
   },
   "file_extension": ".py",
   "mimetype": "text/x-python",
   "name": "python",
   "nbconvert_exporter": "python",
   "pygments_lexer": "ipython3",
   "version": "3.8.12"
  }
 },
 "nbformat": 4,
 "nbformat_minor": 5
}
