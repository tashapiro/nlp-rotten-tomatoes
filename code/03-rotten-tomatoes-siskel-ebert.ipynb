{
 "cells": [
  {
   "cell_type": "markdown",
   "id": "f5216ca9",
   "metadata": {},
   "source": [
    "# Part 3: Applying Model to Siskel & Ebert Reviews\n",
    "\n",
    "Applying model from Part 2 to predict \"Rotten\" or \"Fresh\" reviews from reknown critics, Robert Ebert and Gene Siskel.\n",
    "\n",
    "Data copied from Rotten Tomatoes site."
   ]
  },
  {
   "cell_type": "code",
   "execution_count": 6,
   "id": "48d37411",
   "metadata": {},
   "outputs": [],
   "source": [
    "import pandas as pd\n",
    "import matplotlib.pyplot as plt\n",
    "\n",
    "from sklearn.pipeline import Pipeline\n",
    "from sklearn.feature_extraction.text import CountVectorizer, TfidfVectorizer\n",
    "from sklearn.model_selection import train_test_split\n",
    "from sklearn import svm"
   ]
  },
  {
   "cell_type": "markdown",
   "id": "af082e80",
   "metadata": {},
   "source": [
    "## Recreate Best Model - SVM"
   ]
  },
  {
   "cell_type": "code",
   "execution_count": 3,
   "id": "ca2eaba4",
   "metadata": {},
   "outputs": [
    {
     "data": {
      "text/html": [
       "<div>\n",
       "<style scoped>\n",
       "    .dataframe tbody tr th:only-of-type {\n",
       "        vertical-align: middle;\n",
       "    }\n",
       "\n",
       "    .dataframe tbody tr th {\n",
       "        vertical-align: top;\n",
       "    }\n",
       "\n",
       "    .dataframe thead th {\n",
       "        text-align: right;\n",
       "    }\n",
       "</style>\n",
       "<table border=\"1\" class=\"dataframe\">\n",
       "  <thead>\n",
       "    <tr style=\"text-align: right;\">\n",
       "      <th></th>\n",
       "      <th>rt_review</th>\n",
       "      <th>rt_target</th>\n",
       "      <th>char_length</th>\n",
       "      <th>word_count</th>\n",
       "      <th>rt_label</th>\n",
       "      <th>afinn_score</th>\n",
       "      <th>afinn_type</th>\n",
       "    </tr>\n",
       "  </thead>\n",
       "  <tbody>\n",
       "    <tr>\n",
       "      <th>0</th>\n",
       "      <td>simplistic , silly and tedious .</td>\n",
       "      <td>0</td>\n",
       "      <td>33</td>\n",
       "      <td>6</td>\n",
       "      <td>Rotten</td>\n",
       "      <td>-1.0</td>\n",
       "      <td>Negative</td>\n",
       "    </tr>\n",
       "    <tr>\n",
       "      <th>1</th>\n",
       "      <td>it's so laddish and juvenile , only teenage bo...</td>\n",
       "      <td>0</td>\n",
       "      <td>80</td>\n",
       "      <td>15</td>\n",
       "      <td>Rotten</td>\n",
       "      <td>4.0</td>\n",
       "      <td>Positive</td>\n",
       "    </tr>\n",
       "    <tr>\n",
       "      <th>2</th>\n",
       "      <td>exploitative and largely devoid of the depth o...</td>\n",
       "      <td>0</td>\n",
       "      <td>138</td>\n",
       "      <td>22</td>\n",
       "      <td>Rotten</td>\n",
       "      <td>-3.0</td>\n",
       "      <td>Negative</td>\n",
       "    </tr>\n",
       "  </tbody>\n",
       "</table>\n",
       "</div>"
      ],
      "text/plain": [
       "                                           rt_review  rt_target  char_length  \\\n",
       "0                  simplistic , silly and tedious .           0           33   \n",
       "1  it's so laddish and juvenile , only teenage bo...          0           80   \n",
       "2  exploitative and largely devoid of the depth o...          0          138   \n",
       "\n",
       "   word_count rt_label  afinn_score afinn_type  \n",
       "0           6   Rotten         -1.0   Negative  \n",
       "1          15   Rotten          4.0   Positive  \n",
       "2          22   Rotten         -3.0   Negative  "
      ]
     },
     "execution_count": 3,
     "metadata": {},
     "output_type": "execute_result"
    }
   ],
   "source": [
    "df = pd.read_csv('../data/rt_new_features.csv')\n",
    "df.head(3)"
   ]
  },
  {
   "cell_type": "code",
   "execution_count": 4,
   "id": "28cbf09f",
   "metadata": {},
   "outputs": [],
   "source": [
    "X = df['rt_review']\n",
    "y = df['rt_label']\n",
    "X_train, X_test, y_train, y_test = train_test_split(X,y, random_state=42, stratify=y, test_size=0.15)"
   ]
  },
  {
   "cell_type": "code",
   "execution_count": 7,
   "id": "ee70cf66",
   "metadata": {},
   "outputs": [
    {
     "data": {
      "text/plain": [
       "Pipeline(steps=[('tfv', TfidfVectorizer()),\n",
       "                ('svm', SVC(gamma='auto', kernel='linear'))])"
      ]
     },
     "execution_count": 7,
     "metadata": {},
     "output_type": "execute_result"
    }
   ],
   "source": [
    "pipe_tfv_svm = Pipeline([\n",
    "    ('tfv',TfidfVectorizer()),\n",
    "    ('svm', svm.SVC(C=1.0, kernel='linear', degree=3, gamma='auto'))]\n",
    ")\n",
    "\n",
    "pipe_tfv_svm.fit(X_train,y_train)"
   ]
  },
  {
   "cell_type": "markdown",
   "id": "ce617e1e",
   "metadata": {},
   "source": [
    "## Applying the Model to Siskel & Ebert Review"
   ]
  },
  {
   "cell_type": "code",
   "execution_count": 9,
   "id": "1a1a2a5a",
   "metadata": {},
   "outputs": [],
   "source": [
    "sisbert = pd.read_csv('../data/siskel_ebert.csv', encoding=\"ISO-8859-1\")"
   ]
  },
  {
   "cell_type": "code",
   "execution_count": 10,
   "id": "f97e0d79",
   "metadata": {},
   "outputs": [
    {
     "data": {
      "text/html": [
       "<div>\n",
       "<style scoped>\n",
       "    .dataframe tbody tr th:only-of-type {\n",
       "        vertical-align: middle;\n",
       "    }\n",
       "\n",
       "    .dataframe tbody tr th {\n",
       "        vertical-align: top;\n",
       "    }\n",
       "\n",
       "    .dataframe thead th {\n",
       "        text-align: right;\n",
       "    }\n",
       "</style>\n",
       "<table border=\"1\" class=\"dataframe\">\n",
       "  <thead>\n",
       "    <tr style=\"text-align: right;\">\n",
       "      <th></th>\n",
       "      <th>rt_label</th>\n",
       "      <th>critic</th>\n",
       "      <th>tomato_meter</th>\n",
       "      <th>tomato_perc</th>\n",
       "      <th>title_year</th>\n",
       "      <th>review</th>\n",
       "    </tr>\n",
       "  </thead>\n",
       "  <tbody>\n",
       "    <tr>\n",
       "      <th>0</th>\n",
       "      <td>Rotten</td>\n",
       "      <td>Robert Ebert</td>\n",
       "      <td>1.0</td>\n",
       "      <td>--</td>\n",
       "      <td>Like Father, Like SonÊ(1987)</td>\n",
       "      <td>[This] is one of the most desperate comedies I...</td>\n",
       "    </tr>\n",
       "    <tr>\n",
       "      <th>1</th>\n",
       "      <td>Rotten</td>\n",
       "      <td>Robert Ebert</td>\n",
       "      <td>1.0</td>\n",
       "      <td>0.81</td>\n",
       "      <td>Real LifeÊ(1979)</td>\n",
       "      <td>A great idea. But the movie that Albert Brooks...</td>\n",
       "    </tr>\n",
       "    <tr>\n",
       "      <th>2</th>\n",
       "      <td>Rotten</td>\n",
       "      <td>Robert Ebert</td>\n",
       "      <td>1.0</td>\n",
       "      <td>0.57</td>\n",
       "      <td>Garbo TalksÊ(1984)</td>\n",
       "      <td>Garbo Talks started out as a great idea for a ...</td>\n",
       "    </tr>\n",
       "    <tr>\n",
       "      <th>3</th>\n",
       "      <td>Rotten</td>\n",
       "      <td>Robert Ebert</td>\n",
       "      <td>1.0</td>\n",
       "      <td>--</td>\n",
       "      <td>I, A Woman, Part IIÊ(1968)</td>\n",
       "      <td>If you can miss only one movie this year, make...</td>\n",
       "    </tr>\n",
       "    <tr>\n",
       "      <th>4</th>\n",
       "      <td>Rotten</td>\n",
       "      <td>Robert Ebert</td>\n",
       "      <td>1.0</td>\n",
       "      <td>--</td>\n",
       "      <td>The Immortal BachelorÊ(1975)</td>\n",
       "      <td>It assembles characters of such incredible stu...</td>\n",
       "    </tr>\n",
       "  </tbody>\n",
       "</table>\n",
       "</div>"
      ],
      "text/plain": [
       "  rt_label        critic  tomato_meter tomato_perc  \\\n",
       "0   Rotten  Robert Ebert           1.0          --   \n",
       "1   Rotten  Robert Ebert           1.0        0.81   \n",
       "2   Rotten  Robert Ebert           1.0        0.57   \n",
       "3   Rotten  Robert Ebert           1.0          --   \n",
       "4   Rotten  Robert Ebert           1.0          --   \n",
       "\n",
       "                     title_year  \\\n",
       "0  Like Father, Like SonÊ(1987)   \n",
       "1              Real LifeÊ(1979)   \n",
       "2            Garbo TalksÊ(1984)   \n",
       "3    I, A Woman, Part IIÊ(1968)   \n",
       "4  The Immortal BachelorÊ(1975)   \n",
       "\n",
       "                                              review  \n",
       "0  [This] is one of the most desperate comedies I...  \n",
       "1  A great idea. But the movie that Albert Brooks...  \n",
       "2  Garbo Talks started out as a great idea for a ...  \n",
       "3  If you can miss only one movie this year, make...  \n",
       "4  It assembles characters of such incredible stu...  "
      ]
     },
     "execution_count": 10,
     "metadata": {},
     "output_type": "execute_result"
    }
   ],
   "source": [
    "sisbert.head(5)"
   ]
  },
  {
   "cell_type": "code",
   "execution_count": 11,
   "id": "838dff45",
   "metadata": {},
   "outputs": [],
   "source": [
    "X_sisbert = sisbert['review']\n",
    "y_sisbsert = sisbert['rt_label']"
   ]
  },
  {
   "cell_type": "code",
   "execution_count": 15,
   "id": "a0962a33",
   "metadata": {},
   "outputs": [],
   "source": [
    "sisbert_preds = pipe_tfv_svm.predict(X_sisbert)\n",
    "sisbert['predict'] = sisbert_preds"
   ]
  },
  {
   "cell_type": "code",
   "execution_count": 17,
   "id": "5b9ce6a5",
   "metadata": {},
   "outputs": [
    {
     "data": {
      "text/html": [
       "<div>\n",
       "<style scoped>\n",
       "    .dataframe tbody tr th:only-of-type {\n",
       "        vertical-align: middle;\n",
       "    }\n",
       "\n",
       "    .dataframe tbody tr th {\n",
       "        vertical-align: top;\n",
       "    }\n",
       "\n",
       "    .dataframe thead th {\n",
       "        text-align: right;\n",
       "    }\n",
       "</style>\n",
       "<table border=\"1\" class=\"dataframe\">\n",
       "  <thead>\n",
       "    <tr style=\"text-align: right;\">\n",
       "      <th></th>\n",
       "      <th>rt_label</th>\n",
       "      <th>critic</th>\n",
       "      <th>tomato_meter</th>\n",
       "      <th>tomato_perc</th>\n",
       "      <th>title_year</th>\n",
       "      <th>review</th>\n",
       "      <th>predict</th>\n",
       "      <th>outcome</th>\n",
       "    </tr>\n",
       "  </thead>\n",
       "  <tbody>\n",
       "    <tr>\n",
       "      <th>0</th>\n",
       "      <td>Rotten</td>\n",
       "      <td>Robert Ebert</td>\n",
       "      <td>1.0</td>\n",
       "      <td>--</td>\n",
       "      <td>Like Father, Like SonÊ(1987)</td>\n",
       "      <td>[This] is one of the most desperate comedies I...</td>\n",
       "      <td>Rotten</td>\n",
       "      <td>True</td>\n",
       "    </tr>\n",
       "    <tr>\n",
       "      <th>1</th>\n",
       "      <td>Rotten</td>\n",
       "      <td>Robert Ebert</td>\n",
       "      <td>1.0</td>\n",
       "      <td>0.81</td>\n",
       "      <td>Real LifeÊ(1979)</td>\n",
       "      <td>A great idea. But the movie that Albert Brooks...</td>\n",
       "      <td>Rotten</td>\n",
       "      <td>True</td>\n",
       "    </tr>\n",
       "    <tr>\n",
       "      <th>2</th>\n",
       "      <td>Rotten</td>\n",
       "      <td>Robert Ebert</td>\n",
       "      <td>1.0</td>\n",
       "      <td>0.57</td>\n",
       "      <td>Garbo TalksÊ(1984)</td>\n",
       "      <td>Garbo Talks started out as a great idea for a ...</td>\n",
       "      <td>Rotten</td>\n",
       "      <td>True</td>\n",
       "    </tr>\n",
       "    <tr>\n",
       "      <th>3</th>\n",
       "      <td>Rotten</td>\n",
       "      <td>Robert Ebert</td>\n",
       "      <td>1.0</td>\n",
       "      <td>--</td>\n",
       "      <td>I, A Woman, Part IIÊ(1968)</td>\n",
       "      <td>If you can miss only one movie this year, make...</td>\n",
       "      <td>Rotten</td>\n",
       "      <td>True</td>\n",
       "    </tr>\n",
       "    <tr>\n",
       "      <th>4</th>\n",
       "      <td>Rotten</td>\n",
       "      <td>Robert Ebert</td>\n",
       "      <td>1.0</td>\n",
       "      <td>--</td>\n",
       "      <td>The Immortal BachelorÊ(1975)</td>\n",
       "      <td>It assembles characters of such incredible stu...</td>\n",
       "      <td>Rotten</td>\n",
       "      <td>True</td>\n",
       "    </tr>\n",
       "  </tbody>\n",
       "</table>\n",
       "</div>"
      ],
      "text/plain": [
       "  rt_label        critic  tomato_meter tomato_perc  \\\n",
       "0   Rotten  Robert Ebert           1.0          --   \n",
       "1   Rotten  Robert Ebert           1.0        0.81   \n",
       "2   Rotten  Robert Ebert           1.0        0.57   \n",
       "3   Rotten  Robert Ebert           1.0          --   \n",
       "4   Rotten  Robert Ebert           1.0          --   \n",
       "\n",
       "                     title_year  \\\n",
       "0  Like Father, Like SonÊ(1987)   \n",
       "1              Real LifeÊ(1979)   \n",
       "2            Garbo TalksÊ(1984)   \n",
       "3    I, A Woman, Part IIÊ(1968)   \n",
       "4  The Immortal BachelorÊ(1975)   \n",
       "\n",
       "                                              review predict  outcome  \n",
       "0  [This] is one of the most desperate comedies I...  Rotten     True  \n",
       "1  A great idea. But the movie that Albert Brooks...  Rotten     True  \n",
       "2  Garbo Talks started out as a great idea for a ...  Rotten     True  \n",
       "3  If you can miss only one movie this year, make...  Rotten     True  \n",
       "4  It assembles characters of such incredible stu...  Rotten     True  "
      ]
     },
     "execution_count": 17,
     "metadata": {},
     "output_type": "execute_result"
    }
   ],
   "source": [
    "sisbert['outcome'] = sisbert['predict'] == sisbert['rt_label']\n",
    "sisbert.head(5)"
   ]
  },
  {
   "cell_type": "code",
   "execution_count": 18,
   "id": "6a7bda69",
   "metadata": {},
   "outputs": [
    {
     "data": {
      "text/plain": [
       "True     186\n",
       "False     96\n",
       "Name: outcome, dtype: int64"
      ]
     },
     "execution_count": 18,
     "metadata": {},
     "output_type": "execute_result"
    }
   ],
   "source": [
    "sisbert.outcome.value_counts()"
   ]
  },
  {
   "cell_type": "code",
   "execution_count": 19,
   "id": "1fa326c7",
   "metadata": {},
   "outputs": [
    {
     "data": {
      "text/plain": [
       "True     0.659574\n",
       "False    0.340426\n",
       "Name: outcome, dtype: float64"
      ]
     },
     "execution_count": 19,
     "metadata": {},
     "output_type": "execute_result"
    }
   ],
   "source": [
    "sisbert.outcome.value_counts(normalize=True)"
   ]
  }
 ],
 "metadata": {
  "kernelspec": {
   "display_name": "Python 3 (ipykernel)",
   "language": "python",
   "name": "python3"
  },
  "language_info": {
   "codemirror_mode": {
    "name": "ipython",
    "version": 3
   },
   "file_extension": ".py",
   "mimetype": "text/x-python",
   "name": "python",
   "nbconvert_exporter": "python",
   "pygments_lexer": "ipython3",
   "version": "3.8.12"
  }
 },
 "nbformat": 4,
 "nbformat_minor": 5
}
